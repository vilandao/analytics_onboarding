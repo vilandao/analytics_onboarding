{
 "cells": [
  {
   "cell_type": "markdown",
   "metadata": {
    "tags": []
   },
   "source": [
    "# Exploration\n",
    "Complete EDA.ipynb first!\n",
    "\n",
    "This notebook is a starting point for your own exploration of the data and should build upon your work and knowledge gained from EDA.ipynb. As a reminder, the goal is to identify the primary source(s) of failures and downtimes and, if possible, to assess the certainty of those conclusions.\n",
    "\n",
    "Some questions you could explore are:\n",
    "- Which Machines are responsible for 80% of overall Total Failures? Of overall Total Failure Downtime?\n",
    "- Are there significant differences in the performances of Machines, Shifts, or Operators?\n",
    "- If every minute of Cable Failure Downtime represents eight dollars of lost revenue and Other Failure Downtime represents five dollars then which Machines or Operators are responsible for the most lost revenue? "
   ]
  },
  {
   "cell_type": "code",
   "execution_count": 1,
   "metadata": {},
   "outputs": [],
   "source": [
    "# import libraries\n",
    "import pandas as pd\n",
    "import numpy as np\n",
    "\n",
    "import os\n",
    "\n",
    "import warnings\n",
    "warnings.filterwarnings('ignore')\n",
    "\n",
    "import matplotlib.pyplot as plt\n",
    "import seaborn as sns\n",
    "\n",
    "# a simple theme that's better than the default\n",
    "sns.set_theme(\n",
    "    context='notebook',\n",
    "    style='darkgrid', \n",
    "    palette='husl',\n",
    "    rc={\"figure.figsize\":(24, 8)}\n",
    ")\n",
    "\n",
    "# set pandas display option\n",
    "pd.set_option('display.max_columns', None)\n",
    "pd.set_option('display.max_rows', None)"
   ]
  },
  {
   "cell_type": "code",
   "execution_count": 2,
   "metadata": {},
   "outputs": [],
   "source": [
    "# load and combine datasets\n",
    "def load_combine(copper_file: str, operator_file: str)->pd.DataFrame:\n",
    "    \"\"\"\n",
    "    Load, process & combine the contents of the copper_file and operator_file.\n",
    "    \n",
    "    Params:\n",
    "    copper_file - str; the path to the copper file.\n",
    "    operator_file - str; the path to the operator file.\n",
    "    \n",
    "    Returns:\n",
    "    combined_df - pd.DataFrame; the extracted and combined content of the \n",
    "        two files. There should be 10 columns available after combining the\n",
    "        two files and dropping any unecessary columns.   \n",
    "    \"\"\"\n",
    "    \n",
    "    assert isinstance(operator_file, str), 'operator_file path is not of type str.'\n",
    "    assert isinstance(copper_file, str), 'copper_file path is not of type str.'\n",
    "    \n",
    "    # Store references in lists\n",
    "    combination = ['Machine', 'Shift', 'Operator', 'Date']\n",
    "    operator_columns=['Operator Number','First Name','Last Initial']\n",
    "    \n",
    "    # load and remove duplicates on copper_file\n",
    "    copper_df = pd.read_excel(copper_file, index_col = 0)\n",
    "\n",
    "    copper_df = copper_df.drop_duplicates(subset = combination).reset_index(drop=True)\n",
    "    \n",
    "    print('There are {} rows in copper_file after dropping duplicates'.format(copper_df.shape[0]))\n",
    "    print('')\n",
    "    \n",
    "    # load and pre-process operator_file\n",
    "    operator = pd.read_csv(operator_file,\n",
    "                           sep=r',', \n",
    "                           header = None,\n",
    "                           names = operator_columns,\n",
    "                           delim_whitespace=True)\n",
    "    \n",
    "    operator['Last Initial'] = operator['Last Initial'].astype(str).str[0]\n",
    "    \n",
    "    # create an empty operator_df to fill with contents of operator_file\n",
    "    operator_df = pd.DataFrame(operator)\n",
    "    \n",
    "    # merge copper_df with operator_df using on 'Operator' = 'Operator Number'\n",
    "    combined_df = copper_df.merge(operator_df, \n",
    "                                  how='left', \n",
    "                                  left_on='Operator', \n",
    "                                  right_on='Operator Number')\n",
    "\n",
    "    # drop duplicated column & inspect the new combined table\n",
    "    combined_df.drop('Operator', axis=1, inplace=True)\n",
    "    \n",
    "    return combined_df"
   ]
  },
  {
   "cell_type": "code",
   "execution_count": 3,
   "metadata": {},
   "outputs": [],
   "source": [
    "# function for feature engineering\n",
    "def feature_engineer(df: pd.DataFrame)->pd.DataFrame:\n",
    "    \"\"\"\n",
    "    Engineer new features for the combined_df data frame.\n",
    "    \n",
    "    Params:\n",
    "    df - DataFrame; the data frame used to add new features.\n",
    "    \n",
    "    Returns:\n",
    "    combined_df - pd.DataFrame; a new data frame with newly created features.\n",
    "        These features include 'Operator Name', Day of Week', 'Total Failure', 'Total Downtime', \n",
    "        and 'Total Failure Downtime'. A total of 13 features will be returned.\n",
    "    \"\"\"\n",
    "    \n",
    "    assert isinstance(df, pd.DataFrame), 'df is not a DataFrame.'\n",
    "    \n",
    "    cols = ['First Name', 'Last Initial']\n",
    "    \n",
    "    # create new features   \n",
    "    df['Operator Name'] = df['First Name'] + '_' + df['Last Initial']\n",
    "    df['Day of Week'] = df['Date'].dt.day_name()\n",
    "    df['Total Failures'] = df['Cable Failures'] + df['Other Failures']\n",
    "    df['Total Downtime'] = df['Cable Failure Downtime'] + df['Other Failure Downtime']\n",
    "    df['Total Downtime hr'] = round(df['Total Downtime']/60, 2)\n",
    "    \n",
    "    # create an empty combined_df and fill with content with df\n",
    "    combined_df = pd.DataFrame(df)\n",
    "    \n",
    "    combined_df.drop(cols, axis=1, inplace=True)\n",
    "    \n",
    "    return combined_df"
   ]
  },
  {
   "cell_type": "code",
   "execution_count": 4,
   "metadata": {},
   "outputs": [
    {
     "name": "stdout",
     "output_type": "stream",
     "text": [
      "There are 145 rows in copper_file after dropping duplicates\n",
      "\n"
     ]
    },
    {
     "data": {
      "text/html": [
       "<div>\n",
       "<style scoped>\n",
       "    .dataframe tbody tr th:only-of-type {\n",
       "        vertical-align: middle;\n",
       "    }\n",
       "\n",
       "    .dataframe tbody tr th {\n",
       "        vertical-align: top;\n",
       "    }\n",
       "\n",
       "    .dataframe thead th {\n",
       "        text-align: right;\n",
       "    }\n",
       "</style>\n",
       "<table border=\"1\" class=\"dataframe\">\n",
       "  <thead>\n",
       "    <tr style=\"text-align: right;\">\n",
       "      <th></th>\n",
       "      <th>Machine</th>\n",
       "      <th>Shift</th>\n",
       "      <th>Date</th>\n",
       "      <th>Cable Failures</th>\n",
       "      <th>Cable Failure Downtime</th>\n",
       "      <th>Other Failures</th>\n",
       "      <th>Other Failure Downtime</th>\n",
       "      <th>Operator Number</th>\n",
       "      <th>First Name</th>\n",
       "      <th>Last Initial</th>\n",
       "    </tr>\n",
       "  </thead>\n",
       "  <tbody>\n",
       "    <tr>\n",
       "      <th>0</th>\n",
       "      <td>6</td>\n",
       "      <td>A</td>\n",
       "      <td>2020-11-15</td>\n",
       "      <td>0</td>\n",
       "      <td>0</td>\n",
       "      <td>1</td>\n",
       "      <td>60</td>\n",
       "      <td>12</td>\n",
       "      <td>Tad</td>\n",
       "      <td>S</td>\n",
       "    </tr>\n",
       "    <tr>\n",
       "      <th>1</th>\n",
       "      <td>6</td>\n",
       "      <td>B</td>\n",
       "      <td>2020-11-10</td>\n",
       "      <td>0</td>\n",
       "      <td>0</td>\n",
       "      <td>0</td>\n",
       "      <td>0</td>\n",
       "      <td>12</td>\n",
       "      <td>Tad</td>\n",
       "      <td>S</td>\n",
       "    </tr>\n",
       "    <tr>\n",
       "      <th>2</th>\n",
       "      <td>2</td>\n",
       "      <td>A</td>\n",
       "      <td>2020-11-06</td>\n",
       "      <td>1</td>\n",
       "      <td>10</td>\n",
       "      <td>3</td>\n",
       "      <td>150</td>\n",
       "      <td>2</td>\n",
       "      <td>Hugh</td>\n",
       "      <td>R</td>\n",
       "    </tr>\n",
       "    <tr>\n",
       "      <th>3</th>\n",
       "      <td>8</td>\n",
       "      <td>B</td>\n",
       "      <td>2020-11-16</td>\n",
       "      <td>3</td>\n",
       "      <td>175</td>\n",
       "      <td>0</td>\n",
       "      <td>0</td>\n",
       "      <td>13</td>\n",
       "      <td>Marcel</td>\n",
       "      <td>C</td>\n",
       "    </tr>\n",
       "    <tr>\n",
       "      <th>4</th>\n",
       "      <td>7</td>\n",
       "      <td>B</td>\n",
       "      <td>2020-11-21</td>\n",
       "      <td>1</td>\n",
       "      <td>55</td>\n",
       "      <td>0</td>\n",
       "      <td>0</td>\n",
       "      <td>14</td>\n",
       "      <td>Fritz</td>\n",
       "      <td>M</td>\n",
       "    </tr>\n",
       "  </tbody>\n",
       "</table>\n",
       "</div>"
      ],
      "text/plain": [
       "   Machine Shift       Date  Cable Failures  Cable Failure Downtime  \\\n",
       "0        6     A 2020-11-15               0                       0   \n",
       "1        6     B 2020-11-10               0                       0   \n",
       "2        2     A 2020-11-06               1                      10   \n",
       "3        8     B 2020-11-16               3                     175   \n",
       "4        7     B 2020-11-21               1                      55   \n",
       "\n",
       "   Other Failures  Other Failure Downtime  Operator Number First Name  \\\n",
       "0               1                      60               12        Tad   \n",
       "1               0                       0               12        Tad   \n",
       "2               3                     150                2       Hugh   \n",
       "3               0                       0               13     Marcel   \n",
       "4               0                       0               14      Fritz   \n",
       "\n",
       "  Last Initial  \n",
       "0            S  \n",
       "1            S  \n",
       "2            R  \n",
       "3            C  \n",
       "4            M  "
      ]
     },
     "execution_count": 4,
     "metadata": {},
     "output_type": "execute_result"
    }
   ],
   "source": [
    "# get the paths of the 2 files\n",
    "COPPER_FILE = 'data/copper_production_v1.xlsx'\n",
    "OPERATOR_FILE = 'data/operator_names.txt'\n",
    "\n",
    "abs_path_copper = os.path.abspath(COPPER_FILE)\n",
    "abs_path_operator = os.path.abspath(OPERATOR_FILE)\n",
    "\n",
    "# combine 2 files using pre-defined function and print out the first 5 rows\n",
    "df = load_combine(abs_path_copper, abs_path_operator)\n",
    "df.head()"
   ]
  },
  {
   "cell_type": "code",
   "execution_count": 5,
   "metadata": {},
   "outputs": [
    {
     "data": {
      "text/html": [
       "<div>\n",
       "<style scoped>\n",
       "    .dataframe tbody tr th:only-of-type {\n",
       "        vertical-align: middle;\n",
       "    }\n",
       "\n",
       "    .dataframe tbody tr th {\n",
       "        vertical-align: top;\n",
       "    }\n",
       "\n",
       "    .dataframe thead th {\n",
       "        text-align: right;\n",
       "    }\n",
       "</style>\n",
       "<table border=\"1\" class=\"dataframe\">\n",
       "  <thead>\n",
       "    <tr style=\"text-align: right;\">\n",
       "      <th></th>\n",
       "      <th>Machine</th>\n",
       "      <th>Shift</th>\n",
       "      <th>Date</th>\n",
       "      <th>Cable Failures</th>\n",
       "      <th>Cable Failure Downtime</th>\n",
       "      <th>Other Failures</th>\n",
       "      <th>Other Failure Downtime</th>\n",
       "      <th>Operator Number</th>\n",
       "      <th>Operator Name</th>\n",
       "      <th>Day of Week</th>\n",
       "      <th>Total Failures</th>\n",
       "      <th>Total Downtime</th>\n",
       "      <th>Total Downtime hr</th>\n",
       "    </tr>\n",
       "  </thead>\n",
       "  <tbody>\n",
       "    <tr>\n",
       "      <th>0</th>\n",
       "      <td>6</td>\n",
       "      <td>A</td>\n",
       "      <td>2020-11-15</td>\n",
       "      <td>0</td>\n",
       "      <td>0</td>\n",
       "      <td>1</td>\n",
       "      <td>60</td>\n",
       "      <td>12</td>\n",
       "      <td>Tad_S</td>\n",
       "      <td>Sunday</td>\n",
       "      <td>1</td>\n",
       "      <td>60</td>\n",
       "      <td>1.00</td>\n",
       "    </tr>\n",
       "    <tr>\n",
       "      <th>1</th>\n",
       "      <td>6</td>\n",
       "      <td>B</td>\n",
       "      <td>2020-11-10</td>\n",
       "      <td>0</td>\n",
       "      <td>0</td>\n",
       "      <td>0</td>\n",
       "      <td>0</td>\n",
       "      <td>12</td>\n",
       "      <td>Tad_S</td>\n",
       "      <td>Tuesday</td>\n",
       "      <td>0</td>\n",
       "      <td>0</td>\n",
       "      <td>0.00</td>\n",
       "    </tr>\n",
       "    <tr>\n",
       "      <th>2</th>\n",
       "      <td>2</td>\n",
       "      <td>A</td>\n",
       "      <td>2020-11-06</td>\n",
       "      <td>1</td>\n",
       "      <td>10</td>\n",
       "      <td>3</td>\n",
       "      <td>150</td>\n",
       "      <td>2</td>\n",
       "      <td>Hugh_R</td>\n",
       "      <td>Friday</td>\n",
       "      <td>4</td>\n",
       "      <td>160</td>\n",
       "      <td>2.67</td>\n",
       "    </tr>\n",
       "    <tr>\n",
       "      <th>3</th>\n",
       "      <td>8</td>\n",
       "      <td>B</td>\n",
       "      <td>2020-11-16</td>\n",
       "      <td>3</td>\n",
       "      <td>175</td>\n",
       "      <td>0</td>\n",
       "      <td>0</td>\n",
       "      <td>13</td>\n",
       "      <td>Marcel_C</td>\n",
       "      <td>Monday</td>\n",
       "      <td>3</td>\n",
       "      <td>175</td>\n",
       "      <td>2.92</td>\n",
       "    </tr>\n",
       "    <tr>\n",
       "      <th>4</th>\n",
       "      <td>7</td>\n",
       "      <td>B</td>\n",
       "      <td>2020-11-21</td>\n",
       "      <td>1</td>\n",
       "      <td>55</td>\n",
       "      <td>0</td>\n",
       "      <td>0</td>\n",
       "      <td>14</td>\n",
       "      <td>Fritz_M</td>\n",
       "      <td>Saturday</td>\n",
       "      <td>1</td>\n",
       "      <td>55</td>\n",
       "      <td>0.92</td>\n",
       "    </tr>\n",
       "  </tbody>\n",
       "</table>\n",
       "</div>"
      ],
      "text/plain": [
       "   Machine Shift       Date  Cable Failures  Cable Failure Downtime  \\\n",
       "0        6     A 2020-11-15               0                       0   \n",
       "1        6     B 2020-11-10               0                       0   \n",
       "2        2     A 2020-11-06               1                      10   \n",
       "3        8     B 2020-11-16               3                     175   \n",
       "4        7     B 2020-11-21               1                      55   \n",
       "\n",
       "   Other Failures  Other Failure Downtime  Operator Number Operator Name  \\\n",
       "0               1                      60               12         Tad_S   \n",
       "1               0                       0               12         Tad_S   \n",
       "2               3                     150                2        Hugh_R   \n",
       "3               0                       0               13      Marcel_C   \n",
       "4               0                       0               14       Fritz_M   \n",
       "\n",
       "  Day of Week  Total Failures  Total Downtime  Total Downtime hr  \n",
       "0      Sunday               1              60               1.00  \n",
       "1     Tuesday               0               0               0.00  \n",
       "2      Friday               4             160               2.67  \n",
       "3      Monday               3             175               2.92  \n",
       "4    Saturday               1              55               0.92  "
      ]
     },
     "execution_count": 5,
     "metadata": {},
     "output_type": "execute_result"
    }
   ],
   "source": [
    "# feature engineer df dataframe using pre-defined function and print out first 5 rows\n",
    "combined_df = feature_engineer(df)\n",
    "\n",
    "combined_df.head()"
   ]
  },
  {
   "cell_type": "code",
   "execution_count": 6,
   "metadata": {},
   "outputs": [
    {
     "name": "stdout",
     "output_type": "stream",
     "text": [
      "<class 'pandas.core.frame.DataFrame'>\n",
      "Int64Index: 145 entries, 0 to 144\n",
      "Data columns (total 13 columns):\n",
      " #   Column                  Non-Null Count  Dtype         \n",
      "---  ------                  --------------  -----         \n",
      " 0   Machine                 145 non-null    int64         \n",
      " 1   Shift                   145 non-null    object        \n",
      " 2   Date                    145 non-null    datetime64[ns]\n",
      " 3   Cable Failures          145 non-null    int64         \n",
      " 4   Cable Failure Downtime  145 non-null    int64         \n",
      " 5   Other Failures          145 non-null    int64         \n",
      " 6   Other Failure Downtime  145 non-null    int64         \n",
      " 7   Operator Number         145 non-null    int64         \n",
      " 8   Operator Name           145 non-null    object        \n",
      " 9   Day of Week             145 non-null    object        \n",
      " 10  Total Failures          145 non-null    int64         \n",
      " 11  Total Downtime          145 non-null    int64         \n",
      " 12  Total Downtime hr       145 non-null    float64       \n",
      "dtypes: datetime64[ns](1), float64(1), int64(8), object(3)\n",
      "memory usage: 15.9+ KB\n"
     ]
    }
   ],
   "source": [
    "# inspect column datatype and check columns with missing values\n",
    "combined_df.info()"
   ]
  },
  {
   "cell_type": "code",
   "execution_count": 7,
   "metadata": {},
   "outputs": [
    {
     "data": {
      "text/html": [
       "<div>\n",
       "<style scoped>\n",
       "    .dataframe tbody tr th:only-of-type {\n",
       "        vertical-align: middle;\n",
       "    }\n",
       "\n",
       "    .dataframe tbody tr th {\n",
       "        vertical-align: top;\n",
       "    }\n",
       "\n",
       "    .dataframe thead th {\n",
       "        text-align: right;\n",
       "    }\n",
       "</style>\n",
       "<table border=\"1\" class=\"dataframe\">\n",
       "  <thead>\n",
       "    <tr style=\"text-align: right;\">\n",
       "      <th></th>\n",
       "      <th>count</th>\n",
       "      <th>mean</th>\n",
       "      <th>std</th>\n",
       "      <th>min</th>\n",
       "      <th>25%</th>\n",
       "      <th>50%</th>\n",
       "      <th>75%</th>\n",
       "      <th>max</th>\n",
       "    </tr>\n",
       "  </thead>\n",
       "  <tbody>\n",
       "    <tr>\n",
       "      <th>Machine</th>\n",
       "      <td>145.0</td>\n",
       "      <td>5.910345</td>\n",
       "      <td>4.347600</td>\n",
       "      <td>1.0</td>\n",
       "      <td>2.0</td>\n",
       "      <td>5.0</td>\n",
       "      <td>8.0</td>\n",
       "      <td>17.0</td>\n",
       "    </tr>\n",
       "    <tr>\n",
       "      <th>Cable Failures</th>\n",
       "      <td>145.0</td>\n",
       "      <td>1.413793</td>\n",
       "      <td>1.331176</td>\n",
       "      <td>0.0</td>\n",
       "      <td>0.0</td>\n",
       "      <td>1.0</td>\n",
       "      <td>2.0</td>\n",
       "      <td>6.0</td>\n",
       "    </tr>\n",
       "    <tr>\n",
       "      <th>Cable Failure Downtime</th>\n",
       "      <td>145.0</td>\n",
       "      <td>51.827586</td>\n",
       "      <td>57.251315</td>\n",
       "      <td>0.0</td>\n",
       "      <td>0.0</td>\n",
       "      <td>35.0</td>\n",
       "      <td>70.0</td>\n",
       "      <td>295.0</td>\n",
       "    </tr>\n",
       "    <tr>\n",
       "      <th>Other Failures</th>\n",
       "      <td>145.0</td>\n",
       "      <td>0.537931</td>\n",
       "      <td>0.979092</td>\n",
       "      <td>0.0</td>\n",
       "      <td>0.0</td>\n",
       "      <td>0.0</td>\n",
       "      <td>1.0</td>\n",
       "      <td>9.0</td>\n",
       "    </tr>\n",
       "    <tr>\n",
       "      <th>Other Failure Downtime</th>\n",
       "      <td>145.0</td>\n",
       "      <td>47.586207</td>\n",
       "      <td>107.676056</td>\n",
       "      <td>0.0</td>\n",
       "      <td>0.0</td>\n",
       "      <td>0.0</td>\n",
       "      <td>45.0</td>\n",
       "      <td>690.0</td>\n",
       "    </tr>\n",
       "    <tr>\n",
       "      <th>Operator Number</th>\n",
       "      <td>145.0</td>\n",
       "      <td>12.993103</td>\n",
       "      <td>8.765856</td>\n",
       "      <td>1.0</td>\n",
       "      <td>6.0</td>\n",
       "      <td>12.0</td>\n",
       "      <td>19.0</td>\n",
       "      <td>32.0</td>\n",
       "    </tr>\n",
       "    <tr>\n",
       "      <th>Total Failures</th>\n",
       "      <td>145.0</td>\n",
       "      <td>1.951724</td>\n",
       "      <td>1.420735</td>\n",
       "      <td>0.0</td>\n",
       "      <td>1.0</td>\n",
       "      <td>1.0</td>\n",
       "      <td>2.0</td>\n",
       "      <td>9.0</td>\n",
       "    </tr>\n",
       "    <tr>\n",
       "      <th>Total Downtime</th>\n",
       "      <td>145.0</td>\n",
       "      <td>99.413793</td>\n",
       "      <td>113.344827</td>\n",
       "      <td>0.0</td>\n",
       "      <td>30.0</td>\n",
       "      <td>60.0</td>\n",
       "      <td>120.0</td>\n",
       "      <td>690.0</td>\n",
       "    </tr>\n",
       "    <tr>\n",
       "      <th>Total Downtime hr</th>\n",
       "      <td>145.0</td>\n",
       "      <td>1.657103</td>\n",
       "      <td>1.889259</td>\n",
       "      <td>0.0</td>\n",
       "      <td>0.5</td>\n",
       "      <td>1.0</td>\n",
       "      <td>2.0</td>\n",
       "      <td>11.5</td>\n",
       "    </tr>\n",
       "  </tbody>\n",
       "</table>\n",
       "</div>"
      ],
      "text/plain": [
       "                        count       mean         std  min   25%   50%    75%  \\\n",
       "Machine                 145.0   5.910345    4.347600  1.0   2.0   5.0    8.0   \n",
       "Cable Failures          145.0   1.413793    1.331176  0.0   0.0   1.0    2.0   \n",
       "Cable Failure Downtime  145.0  51.827586   57.251315  0.0   0.0  35.0   70.0   \n",
       "Other Failures          145.0   0.537931    0.979092  0.0   0.0   0.0    1.0   \n",
       "Other Failure Downtime  145.0  47.586207  107.676056  0.0   0.0   0.0   45.0   \n",
       "Operator Number         145.0  12.993103    8.765856  1.0   6.0  12.0   19.0   \n",
       "Total Failures          145.0   1.951724    1.420735  0.0   1.0   1.0    2.0   \n",
       "Total Downtime          145.0  99.413793  113.344827  0.0  30.0  60.0  120.0   \n",
       "Total Downtime hr       145.0   1.657103    1.889259  0.0   0.5   1.0    2.0   \n",
       "\n",
       "                          max  \n",
       "Machine                  17.0  \n",
       "Cable Failures            6.0  \n",
       "Cable Failure Downtime  295.0  \n",
       "Other Failures            9.0  \n",
       "Other Failure Downtime  690.0  \n",
       "Operator Number          32.0  \n",
       "Total Failures            9.0  \n",
       "Total Downtime          690.0  \n",
       "Total Downtime hr        11.5  "
      ]
     },
     "execution_count": 7,
     "metadata": {},
     "output_type": "execute_result"
    }
   ],
   "source": [
    "# combined_df simple statistics on numeric variables\n",
    "combined_df.describe().T"
   ]
  },
  {
   "cell_type": "code",
   "execution_count": 8,
   "metadata": {},
   "outputs": [
    {
     "name": "stdout",
     "output_type": "stream",
     "text": [
      "['A' 'B']\n",
      "\n",
      "['Archy_B' 'Bennett_W' 'Byron_B' 'Christopher_G' 'Connie_M' 'Courtney_H'\n",
      " 'David_S' 'Delmer_K' 'Diego_S' 'Dudley_S' 'Elliott_V' 'Eugene_W'\n",
      " 'Floyd_G' 'Francisco_L' 'Fritz_M' 'Gonzalo_J' 'Harlan_B' 'Hess_H'\n",
      " 'Hugh_R' 'Joesph_W' 'Jose_G' 'Lilly_Z' 'Lindsey_F' 'Marcel_C' 'Maurice_O'\n",
      " 'Nichole_H' 'Norris_H' 'Rodney_G' 'Roland_M' 'Tad_S' 'Vince_F'\n",
      " 'Woodrow_S']\n",
      "\n",
      "['Friday' 'Monday' 'Saturday' 'Sunday' 'Thursday' 'Tuesday' 'Wednesday']\n",
      "\n"
     ]
    }
   ],
   "source": [
    "# inspect categorical variables\n",
    "columns = ['Shift', 'Operator Name', 'Day of Week']\n",
    "\n",
    "for col in combined_df[columns].columns:\n",
    "    print(np.sort(combined_df[col].unique()))\n",
    "    print('')"
   ]
  },
  {
   "cell_type": "code",
   "execution_count": 9,
   "metadata": {},
   "outputs": [
    {
     "name": "stdout",
     "output_type": "stream",
     "text": [
      "['2020-11-06T00:00:00.000000000' '2020-11-07T00:00:00.000000000'\n",
      " '2020-11-08T00:00:00.000000000' '2020-11-09T00:00:00.000000000'\n",
      " '2020-11-10T00:00:00.000000000' '2020-11-12T00:00:00.000000000'\n",
      " '2020-11-13T00:00:00.000000000' '2020-11-14T00:00:00.000000000'\n",
      " '2020-11-15T00:00:00.000000000' '2020-11-16T00:00:00.000000000'\n",
      " '2020-11-17T00:00:00.000000000' '2020-11-18T00:00:00.000000000'\n",
      " '2020-11-19T00:00:00.000000000' '2020-11-20T00:00:00.000000000'\n",
      " '2020-11-21T00:00:00.000000000' '2020-11-22T00:00:00.000000000']\n",
      "There are 16 unique dates in the dataset\n"
     ]
    }
   ],
   "source": [
    "# inspect date variable\n",
    "print(np.sort(combined_df['Date'].unique()))\n",
    "\n",
    "# get the total number of unique dates\n",
    "print('There are {} unique dates in the dataset'.format(combined_df['Date'].nunique()))"
   ]
  },
  {
   "cell_type": "markdown",
   "metadata": {},
   "source": [
    "Looking from the above dates, we can see that 2020-11-11 was missing from the date range. We will perform imputation later after exploring the data"
   ]
  },
  {
   "cell_type": "markdown",
   "metadata": {},
   "source": [
    "## Machine variable vs total failures/downtime\n",
    "\n",
    "#### 1. What machine were used the most out of all machines?"
   ]
  },
  {
   "cell_type": "code",
   "execution_count": 10,
   "metadata": {},
   "outputs": [
    {
     "data": {
      "text/plain": [
       "<matplotlib.axes._subplots.AxesSubplot at 0x7fab853a7460>"
      ]
     },
     "execution_count": 10,
     "metadata": {},
     "output_type": "execute_result"
    },
    {
     "data": {
      "image/png": "[encoded data removed]",
      "text/plain": [
       "<Figure size 1728x576 with 1 Axes>"
      ]
     },
     "metadata": {},
     "output_type": "display_data"
    }
   ],
   "source": [
    "# create machine_proportion and draw a barchart\n",
    "machine_proportion= combined_df.groupby('Machine')['Machine'].count()/len(combined_df)*100\n",
    "\n",
    "machine_proportion.sort_values(ascending=False).plot(kind='bar',\n",
    "                                                     title = 'Machine usage proportion (%)')"
   ]
  },
  {
   "cell_type": "markdown",
   "metadata": {},
   "source": [
    "According to the above bar chart, machine number 2 was used the most out of all other machines (18.6% of total machine usage)"
   ]
  },
  {
   "cell_type": "markdown",
   "metadata": {},
   "source": [
    "#### 2. What machine are responsible for the most failures and downtime?"
   ]
  },
  {
   "cell_type": "code",
   "execution_count": 11,
   "metadata": {},
   "outputs": [
    {
     "data": {
      "text/plain": [
       "<matplotlib.axes._subplots.AxesSubplot at 0x7fab85850790>"
      ]
     },
     "execution_count": 11,
     "metadata": {},
     "output_type": "execute_result"
    },
    {
     "data": {
      "image/png": "[encoded data removed]",
      "text/plain": [
       "<Figure size 1728x576 with 1 Axes>"
      ]
     },
     "metadata": {},
     "output_type": "display_data"
    }
   ],
   "source": [
    "# create new dataframe that capture the relationship between machine and total failures/downtime\n",
    "machine_failure_downtime = combined_df.groupby('Machine')['Total Failures', 'Total Downtime hr'].sum()\n",
    "\n",
    "machine_failure_downtime.plot(kind='bar', \n",
    "                              title = 'Machines vs Total Failures/Downtime')"
   ]
  },
  {
   "cell_type": "code",
   "execution_count": 12,
   "metadata": {},
   "outputs": [
    {
     "data": {
      "text/plain": [
       "Machine\n",
       "2    27.915194\n",
       "8    14.134276\n",
       "3    10.600707\n",
       "7     8.480565\n",
       "1     7.067138\n",
       "Name: Total Failures, dtype: float64"
      ]
     },
     "execution_count": 12,
     "metadata": {},
     "output_type": "execute_result"
    }
   ],
   "source": [
    "# proportion of total failures per each machine\n",
    "machine_failure = combined_df.groupby('Machine')['Total Failures'].sum()/combined_df['Total Failures'].sum()*100\n",
    "machine_failure.sort_values(ascending = False).head()"
   ]
  },
  {
   "cell_type": "code",
   "execution_count": 13,
   "metadata": {},
   "outputs": [
    {
     "data": {
      "text/plain": [
       "Machine\n",
       "8    29.103546\n",
       "2    19.423173\n",
       "1     9.505577\n",
       "7     7.149992\n",
       "5     6.513235\n",
       "Name: Total Downtime hr, dtype: float64"
      ]
     },
     "execution_count": 13,
     "metadata": {},
     "output_type": "execute_result"
    }
   ],
   "source": [
    "# percent of downtime(hr)/total downtime(hr) per each machine\n",
    "machine_downtime = combined_df.groupby('Machine')['Total Downtime hr'].sum()/combined_df['Total Downtime hr'].sum()*100\n",
    "machine_downtime.sort_values(ascending = False).head()"
   ]
  },
  {
   "cell_type": "markdown",
   "metadata": {},
   "source": [
    "Even though machine 2 was ultilized the most and contributed to the highest number of failures (about 28% of total failures), machine 8 caused the highest number of downtime (70 hrs or 29% of total downtime hrs). This means machines associated with the highest number of failures don't necessarily caused the longest downtime."
   ]
  },
  {
   "cell_type": "markdown",
   "metadata": {},
   "source": [
    "#### 3. What machine should be focused on?"
   ]
  },
  {
   "cell_type": "code",
   "execution_count": 14,
   "metadata": {},
   "outputs": [
    {
     "data": {
      "text/html": [
       "<div>\n",
       "<style scoped>\n",
       "    .dataframe tbody tr th:only-of-type {\n",
       "        vertical-align: middle;\n",
       "    }\n",
       "\n",
       "    .dataframe tbody tr th {\n",
       "        vertical-align: top;\n",
       "    }\n",
       "\n",
       "    .dataframe thead th {\n",
       "        text-align: right;\n",
       "    }\n",
       "</style>\n",
       "<table border=\"1\" class=\"dataframe\">\n",
       "  <thead>\n",
       "    <tr style=\"text-align: right;\">\n",
       "      <th></th>\n",
       "      <th>Total Failures</th>\n",
       "      <th>Total Downtime</th>\n",
       "      <th>Avg Downtime(min)/Failure</th>\n",
       "    </tr>\n",
       "    <tr>\n",
       "      <th>Machine</th>\n",
       "      <th></th>\n",
       "      <th></th>\n",
       "      <th></th>\n",
       "    </tr>\n",
       "  </thead>\n",
       "  <tbody>\n",
       "    <tr>\n",
       "      <th>16</th>\n",
       "      <td>6</td>\n",
       "      <td>835</td>\n",
       "      <td>139.166667</td>\n",
       "    </tr>\n",
       "    <tr>\n",
       "      <th>8</th>\n",
       "      <td>40</td>\n",
       "      <td>4195</td>\n",
       "      <td>104.875000</td>\n",
       "    </tr>\n",
       "    <tr>\n",
       "      <th>10</th>\n",
       "      <td>7</td>\n",
       "      <td>495</td>\n",
       "      <td>70.714286</td>\n",
       "    </tr>\n",
       "    <tr>\n",
       "      <th>1</th>\n",
       "      <td>20</td>\n",
       "      <td>1370</td>\n",
       "      <td>68.500000</td>\n",
       "    </tr>\n",
       "    <tr>\n",
       "      <th>17</th>\n",
       "      <td>1</td>\n",
       "      <td>60</td>\n",
       "      <td>60.000000</td>\n",
       "    </tr>\n",
       "    <tr>\n",
       "      <th>5</th>\n",
       "      <td>17</td>\n",
       "      <td>940</td>\n",
       "      <td>55.294118</td>\n",
       "    </tr>\n",
       "    <tr>\n",
       "      <th>9</th>\n",
       "      <td>6</td>\n",
       "      <td>320</td>\n",
       "      <td>53.333333</td>\n",
       "    </tr>\n",
       "    <tr>\n",
       "      <th>7</th>\n",
       "      <td>24</td>\n",
       "      <td>1030</td>\n",
       "      <td>42.916667</td>\n",
       "    </tr>\n",
       "    <tr>\n",
       "      <th>12</th>\n",
       "      <td>2</td>\n",
       "      <td>85</td>\n",
       "      <td>42.500000</td>\n",
       "    </tr>\n",
       "    <tr>\n",
       "      <th>6</th>\n",
       "      <td>10</td>\n",
       "      <td>395</td>\n",
       "      <td>39.500000</td>\n",
       "    </tr>\n",
       "    <tr>\n",
       "      <th>14</th>\n",
       "      <td>6</td>\n",
       "      <td>225</td>\n",
       "      <td>37.500000</td>\n",
       "    </tr>\n",
       "    <tr>\n",
       "      <th>2</th>\n",
       "      <td>79</td>\n",
       "      <td>2800</td>\n",
       "      <td>35.443038</td>\n",
       "    </tr>\n",
       "    <tr>\n",
       "      <th>3</th>\n",
       "      <td>30</td>\n",
       "      <td>885</td>\n",
       "      <td>29.500000</td>\n",
       "    </tr>\n",
       "    <tr>\n",
       "      <th>13</th>\n",
       "      <td>3</td>\n",
       "      <td>80</td>\n",
       "      <td>26.666667</td>\n",
       "    </tr>\n",
       "    <tr>\n",
       "      <th>15</th>\n",
       "      <td>6</td>\n",
       "      <td>160</td>\n",
       "      <td>26.666667</td>\n",
       "    </tr>\n",
       "    <tr>\n",
       "      <th>4</th>\n",
       "      <td>15</td>\n",
       "      <td>335</td>\n",
       "      <td>22.333333</td>\n",
       "    </tr>\n",
       "    <tr>\n",
       "      <th>11</th>\n",
       "      <td>11</td>\n",
       "      <td>205</td>\n",
       "      <td>18.636364</td>\n",
       "    </tr>\n",
       "  </tbody>\n",
       "</table>\n",
       "</div>"
      ],
      "text/plain": [
       "         Total Failures  Total Downtime  Avg Downtime(min)/Failure\n",
       "Machine                                                           \n",
       "16                    6             835                 139.166667\n",
       "8                    40            4195                 104.875000\n",
       "10                    7             495                  70.714286\n",
       "1                    20            1370                  68.500000\n",
       "17                    1              60                  60.000000\n",
       "5                    17             940                  55.294118\n",
       "9                     6             320                  53.333333\n",
       "7                    24            1030                  42.916667\n",
       "12                    2              85                  42.500000\n",
       "6                    10             395                  39.500000\n",
       "14                    6             225                  37.500000\n",
       "2                    79            2800                  35.443038\n",
       "3                    30             885                  29.500000\n",
       "13                    3              80                  26.666667\n",
       "15                    6             160                  26.666667\n",
       "4                    15             335                  22.333333\n",
       "11                   11             205                  18.636364"
      ]
     },
     "execution_count": 14,
     "metadata": {},
     "output_type": "execute_result"
    }
   ],
   "source": [
    "# create avg downtime/failure metric for each machine\n",
    "machine_downtime_per_failure = combined_df[['Machine', 'Total Failures', 'Total Downtime']]\n",
    "\n",
    "machine_downtime_per_failure = machine_downtime_per_failure.groupby('Machine')[['Total Failures','Total Downtime']].sum()\n",
    "\n",
    "machine_downtime_per_failure['Avg Downtime(min)/Failure'] = machine_downtime_per_failure['Total Downtime']/ machine_downtime_per_failure['Total Failures']\n",
    "\n",
    "machine_downtime_per_failure.sort_values(by = 'Avg Downtime(min)/Failure', ascending = False)"
   ]
  },
  {
   "cell_type": "markdown",
   "metadata": {},
   "source": [
    "This is interesting! \n",
    "\n",
    "From an utilization perspective, the manufacturer would probably want to fix/maintain/service machine 2 and machine 3 the most because they are the highest ultilized machines of all in the shop.\n",
    "\n",
    "However, when it comes to performance, machine 16 and machine 8 need to be focused on the most because they tend to have a longer downtime whenever a failure happens."
   ]
  },
  {
   "cell_type": "markdown",
   "metadata": {},
   "source": [
    "## Shift variable vs total failures/downtime\n",
    "\n",
    "#### 1. What shift is associated with the most amout of total failures/downtime?"
   ]
  },
  {
   "cell_type": "code",
   "execution_count": 15,
   "metadata": {},
   "outputs": [
    {
     "data": {
      "text/plain": [
       "Shift\n",
       "A    51.034483\n",
       "B    48.965517\n",
       "Name: Shift, dtype: float64"
      ]
     },
     "execution_count": 15,
     "metadata": {},
     "output_type": "execute_result"
    }
   ],
   "source": [
    "# inspect shift proportion\n",
    "shift_proportion= combined_df.groupby('Shift')['Shift'].count()/len(combined_df)*100\n",
    "\n",
    "shift_proportion"
   ]
  },
  {
   "cell_type": "markdown",
   "metadata": {},
   "source": [
    "The number of shifts were well distributed between shift A and shift B with shift A accounted for 51% of the total number of shifts, and shift B accounted for 49%, respectively."
   ]
  },
  {
   "cell_type": "code",
   "execution_count": 16,
   "metadata": {},
   "outputs": [
    {
     "data": {
      "text/plain": [
       "<matplotlib.axes._subplots.AxesSubplot at 0x7fab8585af10>"
      ]
     },
     "execution_count": 16,
     "metadata": {},
     "output_type": "execute_result"
    },
    {
     "data": {
      "image/png": "[encoded data removed]",
      "text/plain": [
       "<Figure size 1728x576 with 1 Axes>"
      ]
     },
     "metadata": {},
     "output_type": "display_data"
    }
   ],
   "source": [
    "# plot the relationship between shift and total failures/downtime\n",
    "combined_df.groupby('Shift')['Total Failures', 'Total Downtime hr'].sum().plot(kind='bar',\n",
    "                                                                               title = 'Shift vs Total Failures/Downtime')"
   ]
  },
  {
   "cell_type": "markdown",
   "metadata": {},
   "source": [
    "According to the barchart above, even though shift A and shift B accounted for similar amount of total downtime (around 120 total hrs), the number of failures that happened on Shift A was remarkably higher than the number of failures that happened on Shift B. \n",
    "\n",
    "Could this be because shift A ultilizes more machines that have a higher number of failures but shorter downtimes?"
   ]
  },
  {
   "cell_type": "markdown",
   "metadata": {},
   "source": [
    "#### 2. How different shifts ultilize different machines?"
   ]
  },
  {
   "cell_type": "code",
   "execution_count": 17,
   "metadata": {},
   "outputs": [
    {
     "name": "stdout",
     "output_type": "stream",
     "text": [
      "Shift  Machine\n",
      "A      1           9\n",
      "       2          13\n",
      "       3           9\n",
      "       4           3\n",
      "       5           6\n",
      "       6           6\n",
      "       7           6\n",
      "       8           5\n",
      "       9           4\n",
      "       10          3\n",
      "       11          1\n",
      "       12          2\n",
      "       13          1\n",
      "       14          1\n",
      "       15          2\n",
      "       16          2\n",
      "       17          1\n",
      "B      1           6\n",
      "       2          14\n",
      "       3          10\n",
      "       4           5\n",
      "       5           3\n",
      "       6           2\n",
      "       7          10\n",
      "       8           6\n",
      "       10          3\n",
      "       11          2\n",
      "       13          2\n",
      "       14          2\n",
      "       15          3\n",
      "       16          3\n",
      "Name: Machine, dtype: int64\n"
     ]
    }
   ],
   "source": [
    "# create shift_machine df that contains shift and machine ultilization info\n",
    "shift_machine = combined_df[['Shift', 'Machine']]\n",
    "\n",
    "# inspect what machines were used in each shift\n",
    "df = shift_machine.groupby(['Shift', 'Machine'])['Machine'].count()\n",
    "print(df)"
   ]
  },
  {
   "cell_type": "code",
   "execution_count": 18,
   "metadata": {},
   "outputs": [
    {
     "data": {
      "text/plain": [
       "Machine\n",
       "1     3.0\n",
       "2    -1.0\n",
       "3    -1.0\n",
       "4    -2.0\n",
       "5     3.0\n",
       "6     4.0\n",
       "7    -4.0\n",
       "8    -1.0\n",
       "9     NaN\n",
       "10    0.0\n",
       "11   -1.0\n",
       "12    NaN\n",
       "13   -1.0\n",
       "14   -1.0\n",
       "15   -1.0\n",
       "16   -1.0\n",
       "17    NaN\n",
       "Name: Machine, dtype: float64"
      ]
     },
     "execution_count": 18,
     "metadata": {},
     "output_type": "execute_result"
    }
   ],
   "source": [
    "# calculate machine ultilization between shift A and shift B\n",
    "shift_machine[shift_machine['Shift'] == 'A'].groupby(['Machine'])['Machine'].count() - shift_machine[shift_machine['Shift'] == 'B'].groupby(['Machine'])['Machine'].count()"
   ]
  },
  {
   "cell_type": "markdown",
   "metadata": {},
   "source": [
    "Shift A ultilized machine 1, 5, 6, 9, 12, 17 more often than shift B. Notice in the previous section, machine 1, 5, and 6 are ones that have higher number of total failures.\n",
    "\n",
    "Shift B, on the other hand, ultilized machine 4, 7, 11, 13 and 15 more often than shift A. These are machines that have a shorter average downtime per failure."
   ]
  },
  {
   "cell_type": "markdown",
   "metadata": {},
   "source": [
    "## Operator variable vs total failures/downtime\n",
    "\n",
    "#### 1. What operators were associated with the highest number of failure/downtime?"
   ]
  },
  {
   "cell_type": "code",
   "execution_count": 42,
   "metadata": {},
   "outputs": [
    {
     "data": {
      "text/plain": [
       "Operator Name\n",
       "Fritz_M       13\n",
       "Courtney_H    11\n",
       "Byron_B        9\n",
       "Rodney_G       8\n",
       "Elliott_V      8\n",
       "Name: Shift, dtype: int64"
      ]
     },
     "execution_count": 42,
     "metadata": {},
     "output_type": "execute_result"
    }
   ],
   "source": [
    "# Which operators worked the highest amount of shifts?\n",
    "combined_df.groupby('Operator Name')['Shift'].count().sort_values(ascending = False).head()"
   ]
  },
  {
   "cell_type": "code",
   "execution_count": 44,
   "metadata": {},
   "outputs": [
    {
     "data": {
      "text/plain": [
       "<matplotlib.axes._subplots.AxesSubplot at 0x7fab862e8ac0>"
      ]
     },
     "execution_count": 44,
     "metadata": {},
     "output_type": "execute_result"
    },
    {
     "data": {
      "image/png": "[encoded data removed]",
      "text/plain": [
       "<Figure size 1728x576 with 1 Axes>"
      ]
     },
     "metadata": {},
     "output_type": "display_data"
    }
   ],
   "source": [
    "# plot barchart showing the number of total failures and downtime per each operator\n",
    "combined_df.groupby('Operator Name')[['Total Failures', 'Total Downtime hr']].sum().plot(kind='bar',\n",
    "                                                                                         title = 'Operator vs Total failiures/downtime')"
   ]
  },
  {
   "cell_type": "markdown",
   "metadata": {},
   "source": [
    "According to the barchart above, even though Hess_H and Courtney_H contributed to the highest number of failures within the dataset, it is Marcel_C and Harlan_B that had the longest total downtime.\n",
    "\n",
    "Let's take a closer look at the data!"
   ]
  },
  {
   "cell_type": "markdown",
   "metadata": {},
   "source": [
    "#### 2. Do machines play a role in operator performance?"
   ]
  },
  {
   "cell_type": "code",
   "execution_count": 20,
   "metadata": {},
   "outputs": [
    {
     "data": {
      "text/html": [
       "<div>\n",
       "<style scoped>\n",
       "    .dataframe tbody tr th:only-of-type {\n",
       "        vertical-align: middle;\n",
       "    }\n",
       "\n",
       "    .dataframe tbody tr th {\n",
       "        vertical-align: top;\n",
       "    }\n",
       "\n",
       "    .dataframe thead th {\n",
       "        text-align: right;\n",
       "    }\n",
       "</style>\n",
       "<table border=\"1\" class=\"dataframe\">\n",
       "  <thead>\n",
       "    <tr style=\"text-align: right;\">\n",
       "      <th></th>\n",
       "      <th>Total Failures</th>\n",
       "      <th>Total Downtime</th>\n",
       "    </tr>\n",
       "    <tr>\n",
       "      <th>Operator Name</th>\n",
       "      <th></th>\n",
       "      <th></th>\n",
       "    </tr>\n",
       "  </thead>\n",
       "  <tbody>\n",
       "    <tr>\n",
       "      <th>Hess_H</th>\n",
       "      <td>26</td>\n",
       "      <td>710</td>\n",
       "    </tr>\n",
       "    <tr>\n",
       "      <th>Courtney_H</th>\n",
       "      <td>20</td>\n",
       "      <td>845</td>\n",
       "    </tr>\n",
       "    <tr>\n",
       "      <th>Marcel_C</th>\n",
       "      <td>20</td>\n",
       "      <td>2015</td>\n",
       "    </tr>\n",
       "    <tr>\n",
       "      <th>Fritz_M</th>\n",
       "      <td>19</td>\n",
       "      <td>960</td>\n",
       "    </tr>\n",
       "    <tr>\n",
       "      <th>Rodney_G</th>\n",
       "      <td>16</td>\n",
       "      <td>1050</td>\n",
       "    </tr>\n",
       "  </tbody>\n",
       "</table>\n",
       "</div>"
      ],
      "text/plain": [
       "               Total Failures  Total Downtime\n",
       "Operator Name                                \n",
       "Hess_H                     26             710\n",
       "Courtney_H                 20             845\n",
       "Marcel_C                   20            2015\n",
       "Fritz_M                    19             960\n",
       "Rodney_G                   16            1050"
      ]
     },
     "execution_count": 20,
     "metadata": {},
     "output_type": "execute_result"
    }
   ],
   "source": [
    "# let's take a look at operators with the highest number of failures\n",
    "combined_df.groupby('Operator Name')[['Total Failures', 'Total Downtime']].sum().sort_values(by = 'Total Failures', ascending = False).head()"
   ]
  },
  {
   "cell_type": "code",
   "execution_count": 21,
   "metadata": {},
   "outputs": [
    {
     "data": {
      "text/html": [
       "<div>\n",
       "<style scoped>\n",
       "    .dataframe tbody tr th:only-of-type {\n",
       "        vertical-align: middle;\n",
       "    }\n",
       "\n",
       "    .dataframe tbody tr th {\n",
       "        vertical-align: top;\n",
       "    }\n",
       "\n",
       "    .dataframe thead th {\n",
       "        text-align: right;\n",
       "    }\n",
       "</style>\n",
       "<table border=\"1\" class=\"dataframe\">\n",
       "  <thead>\n",
       "    <tr style=\"text-align: right;\">\n",
       "      <th></th>\n",
       "      <th>Total Failures</th>\n",
       "      <th>Total Downtime</th>\n",
       "    </tr>\n",
       "    <tr>\n",
       "      <th>Operator Name</th>\n",
       "      <th></th>\n",
       "      <th></th>\n",
       "    </tr>\n",
       "  </thead>\n",
       "  <tbody>\n",
       "    <tr>\n",
       "      <th>Marcel_C</th>\n",
       "      <td>20</td>\n",
       "      <td>2015</td>\n",
       "    </tr>\n",
       "    <tr>\n",
       "      <th>Harlan_B</th>\n",
       "      <td>13</td>\n",
       "      <td>1240</td>\n",
       "    </tr>\n",
       "    <tr>\n",
       "      <th>Rodney_G</th>\n",
       "      <td>16</td>\n",
       "      <td>1050</td>\n",
       "    </tr>\n",
       "    <tr>\n",
       "      <th>Elliott_V</th>\n",
       "      <td>16</td>\n",
       "      <td>1000</td>\n",
       "    </tr>\n",
       "    <tr>\n",
       "      <th>Fritz_M</th>\n",
       "      <td>19</td>\n",
       "      <td>960</td>\n",
       "    </tr>\n",
       "  </tbody>\n",
       "</table>\n",
       "</div>"
      ],
      "text/plain": [
       "               Total Failures  Total Downtime\n",
       "Operator Name                                \n",
       "Marcel_C                   20            2015\n",
       "Harlan_B                   13            1240\n",
       "Rodney_G                   16            1050\n",
       "Elliott_V                  16            1000\n",
       "Fritz_M                    19             960"
      ]
     },
     "execution_count": 21,
     "metadata": {},
     "output_type": "execute_result"
    }
   ],
   "source": [
    "# operators with the highest number of downtime\n",
    "combined_df.groupby('Operator Name')[['Total Failures', 'Total Downtime']].sum().sort_values(by = 'Total Downtime', ascending = False).head()"
   ]
  },
  {
   "cell_type": "code",
   "execution_count": 22,
   "metadata": {},
   "outputs": [
    {
     "data": {
      "text/html": [
       "<div>\n",
       "<style scoped>\n",
       "    .dataframe tbody tr th:only-of-type {\n",
       "        vertical-align: middle;\n",
       "    }\n",
       "\n",
       "    .dataframe tbody tr th {\n",
       "        vertical-align: top;\n",
       "    }\n",
       "\n",
       "    .dataframe thead th {\n",
       "        text-align: right;\n",
       "    }\n",
       "</style>\n",
       "<table border=\"1\" class=\"dataframe\">\n",
       "  <thead>\n",
       "    <tr style=\"text-align: right;\">\n",
       "      <th></th>\n",
       "      <th></th>\n",
       "      <th>Total Failures</th>\n",
       "      <th>Total Downtime</th>\n",
       "    </tr>\n",
       "    <tr>\n",
       "      <th>Operator Name</th>\n",
       "      <th>Machine</th>\n",
       "      <th></th>\n",
       "      <th></th>\n",
       "    </tr>\n",
       "  </thead>\n",
       "  <tbody>\n",
       "    <tr>\n",
       "      <th rowspan=\"3\" valign=\"top\">Courtney_H</th>\n",
       "      <th>1</th>\n",
       "      <td>11</td>\n",
       "      <td>560</td>\n",
       "    </tr>\n",
       "    <tr>\n",
       "      <th>2</th>\n",
       "      <td>3</td>\n",
       "      <td>70</td>\n",
       "    </tr>\n",
       "    <tr>\n",
       "      <th>6</th>\n",
       "      <td>6</td>\n",
       "      <td>215</td>\n",
       "    </tr>\n",
       "    <tr>\n",
       "      <th>Harlan_B</th>\n",
       "      <th>8</th>\n",
       "      <td>13</td>\n",
       "      <td>1240</td>\n",
       "    </tr>\n",
       "    <tr>\n",
       "      <th>Hess_H</th>\n",
       "      <th>2</th>\n",
       "      <td>26</td>\n",
       "      <td>710</td>\n",
       "    </tr>\n",
       "    <tr>\n",
       "      <th rowspan=\"4\" valign=\"top\">Marcel_C</th>\n",
       "      <th>2</th>\n",
       "      <td>4</td>\n",
       "      <td>210</td>\n",
       "    </tr>\n",
       "    <tr>\n",
       "      <th>5</th>\n",
       "      <td>3</td>\n",
       "      <td>170</td>\n",
       "    </tr>\n",
       "    <tr>\n",
       "      <th>7</th>\n",
       "      <td>2</td>\n",
       "      <td>100</td>\n",
       "    </tr>\n",
       "    <tr>\n",
       "      <th>8</th>\n",
       "      <td>11</td>\n",
       "      <td>1535</td>\n",
       "    </tr>\n",
       "  </tbody>\n",
       "</table>\n",
       "</div>"
      ],
      "text/plain": [
       "                       Total Failures  Total Downtime\n",
       "Operator Name Machine                                \n",
       "Courtney_H    1                    11             560\n",
       "              2                     3              70\n",
       "              6                     6             215\n",
       "Harlan_B      8                    13            1240\n",
       "Hess_H        2                    26             710\n",
       "Marcel_C      2                     4             210\n",
       "              5                     3             170\n",
       "              7                     2             100\n",
       "              8                    11            1535"
      ]
     },
     "execution_count": 22,
     "metadata": {},
     "output_type": "execute_result"
    }
   ],
   "source": [
    "# inspect only operators of interest\n",
    "operators = ['Hess_H', 'Courtney_H', 'Marcel_C', 'Harlan_B']\n",
    "\n",
    "operator_machine = combined_df[combined_df['Operator Name'].isin(operators)] \n",
    "\n",
    "operator_machine = operator_machine.groupby(['Operator Name', 'Machine'])[['Total Failures', 'Total Downtime']].sum()\n",
    "operator_machine"
   ]
  },
  {
   "cell_type": "markdown",
   "metadata": {},
   "source": [
    "It looks like Hess_H only operated machine 2. If you remember from the analysis earlier in the machine section, machine 2 was the highest ultilized machine and had the highest number of failures. However, it had a smaller downtime/failure rate. That explains why even though Hess_H had the highest number of failures across the time series, the total amount of downtime during his/her shifts was not as high as others.\n",
    "\n",
    "Harlan_B was assigned to machine 8, which not only failed more often, but also had a higher rate of downtime/failure. \n",
    "\n",
    "Courtney_H and Marcel_C both operated multiple machines. Courtney_H's high failure rate was mainly due to machine 1 and machine 6. These two machines, however, had shorter average downtime per each failure, similar to Hess_H situation. \n",
    "\n",
    "Marcel_C operated on 4 different machines, but used machine 8 the most out of others. As explained above, machine 8 had one of the biggest downtime/failure rates."
   ]
  },
  {
   "cell_type": "markdown",
   "metadata": {},
   "source": [
    "#### 3. If every minute of Cable Failure Downtime represents eight dollars of lost revenue and Other Failure Downtime represents five dollars then which Machines or Operators are responsible for the most lost revenue?"
   ]
  },
  {
   "cell_type": "code",
   "execution_count": 23,
   "metadata": {},
   "outputs": [
    {
     "data": {
      "text/html": [
       "<div>\n",
       "<style scoped>\n",
       "    .dataframe tbody tr th:only-of-type {\n",
       "        vertical-align: middle;\n",
       "    }\n",
       "\n",
       "    .dataframe tbody tr th {\n",
       "        vertical-align: top;\n",
       "    }\n",
       "\n",
       "    .dataframe thead th {\n",
       "        text-align: right;\n",
       "    }\n",
       "</style>\n",
       "<table border=\"1\" class=\"dataframe\">\n",
       "  <thead>\n",
       "    <tr style=\"text-align: right;\">\n",
       "      <th></th>\n",
       "      <th>Machine</th>\n",
       "      <th>Cable Failure Downtime</th>\n",
       "      <th>Other Failure Downtime</th>\n",
       "      <th>Lost Revenue</th>\n",
       "    </tr>\n",
       "  </thead>\n",
       "  <tbody>\n",
       "    <tr>\n",
       "      <th>0</th>\n",
       "      <td>6</td>\n",
       "      <td>0</td>\n",
       "      <td>60</td>\n",
       "      <td>300</td>\n",
       "    </tr>\n",
       "    <tr>\n",
       "      <th>1</th>\n",
       "      <td>6</td>\n",
       "      <td>0</td>\n",
       "      <td>0</td>\n",
       "      <td>0</td>\n",
       "    </tr>\n",
       "    <tr>\n",
       "      <th>2</th>\n",
       "      <td>2</td>\n",
       "      <td>10</td>\n",
       "      <td>150</td>\n",
       "      <td>830</td>\n",
       "    </tr>\n",
       "    <tr>\n",
       "      <th>3</th>\n",
       "      <td>8</td>\n",
       "      <td>175</td>\n",
       "      <td>0</td>\n",
       "      <td>1400</td>\n",
       "    </tr>\n",
       "    <tr>\n",
       "      <th>4</th>\n",
       "      <td>7</td>\n",
       "      <td>55</td>\n",
       "      <td>0</td>\n",
       "      <td>440</td>\n",
       "    </tr>\n",
       "  </tbody>\n",
       "</table>\n",
       "</div>"
      ],
      "text/plain": [
       "   Machine  Cable Failure Downtime  Other Failure Downtime  Lost Revenue\n",
       "0        6                       0                      60           300\n",
       "1        6                       0                       0             0\n",
       "2        2                      10                     150           830\n",
       "3        8                     175                       0          1400\n",
       "4        7                      55                       0           440"
      ]
     },
     "execution_count": 23,
     "metadata": {},
     "output_type": "execute_result"
    }
   ],
   "source": [
    "# create revenue by machine df and calculate lost revenue\n",
    "rev_by_machine = combined_df[['Machine', 'Cable Failure Downtime', 'Other Failure Downtime']]\n",
    "\n",
    "rev_by_machine['Lost Revenue'] = (combined_df['Cable Failure Downtime'] * 8) + (combined_df['Other Failure Downtime'] * 5)\n",
    "\n",
    "rev_by_machine.head()"
   ]
  },
  {
   "cell_type": "code",
   "execution_count": 24,
   "metadata": {},
   "outputs": [
    {
     "data": {
      "text/plain": [
       "Machine\n",
       "8    25250\n",
       "2    18665\n",
       "Name: Lost Revenue, dtype: int64"
      ]
     },
     "execution_count": 24,
     "metadata": {},
     "output_type": "execute_result"
    }
   ],
   "source": [
    "# machines associated with the most amount of lost revenue \n",
    "rev_by_machine.groupby('Machine')['Lost Revenue'].sum().sort_values(ascending = False).head(2)"
   ]
  },
  {
   "cell_type": "code",
   "execution_count": 25,
   "metadata": {},
   "outputs": [
    {
     "data": {
      "text/html": [
       "<div>\n",
       "<style scoped>\n",
       "    .dataframe tbody tr th:only-of-type {\n",
       "        vertical-align: middle;\n",
       "    }\n",
       "\n",
       "    .dataframe tbody tr th {\n",
       "        vertical-align: top;\n",
       "    }\n",
       "\n",
       "    .dataframe thead th {\n",
       "        text-align: right;\n",
       "    }\n",
       "</style>\n",
       "<table border=\"1\" class=\"dataframe\">\n",
       "  <thead>\n",
       "    <tr style=\"text-align: right;\">\n",
       "      <th></th>\n",
       "      <th>Operator Name</th>\n",
       "      <th>Cable Failure Downtime</th>\n",
       "      <th>Other Failure Downtime</th>\n",
       "      <th>Lost Revenue</th>\n",
       "    </tr>\n",
       "  </thead>\n",
       "  <tbody>\n",
       "    <tr>\n",
       "      <th>0</th>\n",
       "      <td>Tad_S</td>\n",
       "      <td>0</td>\n",
       "      <td>60</td>\n",
       "      <td>300</td>\n",
       "    </tr>\n",
       "    <tr>\n",
       "      <th>1</th>\n",
       "      <td>Tad_S</td>\n",
       "      <td>0</td>\n",
       "      <td>0</td>\n",
       "      <td>0</td>\n",
       "    </tr>\n",
       "    <tr>\n",
       "      <th>2</th>\n",
       "      <td>Hugh_R</td>\n",
       "      <td>10</td>\n",
       "      <td>150</td>\n",
       "      <td>830</td>\n",
       "    </tr>\n",
       "    <tr>\n",
       "      <th>3</th>\n",
       "      <td>Marcel_C</td>\n",
       "      <td>175</td>\n",
       "      <td>0</td>\n",
       "      <td>1400</td>\n",
       "    </tr>\n",
       "    <tr>\n",
       "      <th>4</th>\n",
       "      <td>Fritz_M</td>\n",
       "      <td>55</td>\n",
       "      <td>0</td>\n",
       "      <td>440</td>\n",
       "    </tr>\n",
       "  </tbody>\n",
       "</table>\n",
       "</div>"
      ],
      "text/plain": [
       "  Operator Name  Cable Failure Downtime  Other Failure Downtime  Lost Revenue\n",
       "0         Tad_S                       0                      60           300\n",
       "1         Tad_S                       0                       0             0\n",
       "2        Hugh_R                      10                     150           830\n",
       "3      Marcel_C                     175                       0          1400\n",
       "4       Fritz_M                      55                       0           440"
      ]
     },
     "execution_count": 25,
     "metadata": {},
     "output_type": "execute_result"
    }
   ],
   "source": [
    "# create revenue by operator df and calculate lost revenue\n",
    "rev_by_operator = combined_df[['Operator Name', 'Cable Failure Downtime', 'Other Failure Downtime']]\n",
    "\n",
    "rev_by_operator['Lost Revenue'] = (combined_df['Cable Failure Downtime'] * 8) + (combined_df['Other Failure Downtime'] * 5)\n",
    "\n",
    "rev_by_operator.head()"
   ]
  },
  {
   "cell_type": "code",
   "execution_count": 26,
   "metadata": {},
   "outputs": [
    {
     "data": {
      "text/plain": [
       "Operator Name\n",
       "Marcel_C    12490\n",
       "Harlan_B     7535\n",
       "Name: Lost Revenue, dtype: int64"
      ]
     },
     "execution_count": 26,
     "metadata": {},
     "output_type": "execute_result"
    }
   ],
   "source": [
    "# operator associated with the most amount of lost revenue \n",
    "rev_by_operator.groupby('Operator Name')['Lost Revenue'].sum().sort_values(ascending = False).head(2)"
   ]
  },
  {
   "cell_type": "markdown",
   "metadata": {},
   "source": [
    "## Variable correlation"
   ]
  },
  {
   "cell_type": "code",
   "execution_count": 27,
   "metadata": {},
   "outputs": [
    {
     "data": {
      "text/html": [
       "<div>\n",
       "<style scoped>\n",
       "    .dataframe tbody tr th:only-of-type {\n",
       "        vertical-align: middle;\n",
       "    }\n",
       "\n",
       "    .dataframe tbody tr th {\n",
       "        vertical-align: top;\n",
       "    }\n",
       "\n",
       "    .dataframe thead th {\n",
       "        text-align: right;\n",
       "    }\n",
       "</style>\n",
       "<table border=\"1\" class=\"dataframe\">\n",
       "  <thead>\n",
       "    <tr style=\"text-align: right;\">\n",
       "      <th></th>\n",
       "      <th>Machine</th>\n",
       "      <th>Shift</th>\n",
       "      <th>Date</th>\n",
       "      <th>Cable Failures</th>\n",
       "      <th>Cable Failure Downtime</th>\n",
       "      <th>Other Failures</th>\n",
       "      <th>Other Failure Downtime</th>\n",
       "      <th>Operator Number</th>\n",
       "      <th>Operator Name</th>\n",
       "      <th>Day of Week</th>\n",
       "      <th>Total Failures</th>\n",
       "      <th>Total Downtime</th>\n",
       "      <th>Total Downtime hr</th>\n",
       "    </tr>\n",
       "  </thead>\n",
       "  <tbody>\n",
       "    <tr>\n",
       "      <th>0</th>\n",
       "      <td>6</td>\n",
       "      <td>A</td>\n",
       "      <td>2020-11-15</td>\n",
       "      <td>0</td>\n",
       "      <td>0</td>\n",
       "      <td>1</td>\n",
       "      <td>60</td>\n",
       "      <td>12</td>\n",
       "      <td>Tad_S</td>\n",
       "      <td>Sunday</td>\n",
       "      <td>1</td>\n",
       "      <td>60</td>\n",
       "      <td>1.00</td>\n",
       "    </tr>\n",
       "    <tr>\n",
       "      <th>1</th>\n",
       "      <td>6</td>\n",
       "      <td>B</td>\n",
       "      <td>2020-11-10</td>\n",
       "      <td>0</td>\n",
       "      <td>0</td>\n",
       "      <td>0</td>\n",
       "      <td>0</td>\n",
       "      <td>12</td>\n",
       "      <td>Tad_S</td>\n",
       "      <td>Tuesday</td>\n",
       "      <td>0</td>\n",
       "      <td>0</td>\n",
       "      <td>0.00</td>\n",
       "    </tr>\n",
       "    <tr>\n",
       "      <th>2</th>\n",
       "      <td>2</td>\n",
       "      <td>A</td>\n",
       "      <td>2020-11-06</td>\n",
       "      <td>1</td>\n",
       "      <td>10</td>\n",
       "      <td>3</td>\n",
       "      <td>150</td>\n",
       "      <td>2</td>\n",
       "      <td>Hugh_R</td>\n",
       "      <td>Friday</td>\n",
       "      <td>4</td>\n",
       "      <td>160</td>\n",
       "      <td>2.67</td>\n",
       "    </tr>\n",
       "    <tr>\n",
       "      <th>3</th>\n",
       "      <td>8</td>\n",
       "      <td>B</td>\n",
       "      <td>2020-11-16</td>\n",
       "      <td>3</td>\n",
       "      <td>175</td>\n",
       "      <td>0</td>\n",
       "      <td>0</td>\n",
       "      <td>13</td>\n",
       "      <td>Marcel_C</td>\n",
       "      <td>Monday</td>\n",
       "      <td>3</td>\n",
       "      <td>175</td>\n",
       "      <td>2.92</td>\n",
       "    </tr>\n",
       "    <tr>\n",
       "      <th>4</th>\n",
       "      <td>7</td>\n",
       "      <td>B</td>\n",
       "      <td>2020-11-21</td>\n",
       "      <td>1</td>\n",
       "      <td>55</td>\n",
       "      <td>0</td>\n",
       "      <td>0</td>\n",
       "      <td>14</td>\n",
       "      <td>Fritz_M</td>\n",
       "      <td>Saturday</td>\n",
       "      <td>1</td>\n",
       "      <td>55</td>\n",
       "      <td>0.92</td>\n",
       "    </tr>\n",
       "  </tbody>\n",
       "</table>\n",
       "</div>"
      ],
      "text/plain": [
       "   Machine Shift       Date  Cable Failures  Cable Failure Downtime  \\\n",
       "0        6     A 2020-11-15               0                       0   \n",
       "1        6     B 2020-11-10               0                       0   \n",
       "2        2     A 2020-11-06               1                      10   \n",
       "3        8     B 2020-11-16               3                     175   \n",
       "4        7     B 2020-11-21               1                      55   \n",
       "\n",
       "   Other Failures  Other Failure Downtime  Operator Number Operator Name  \\\n",
       "0               1                      60               12         Tad_S   \n",
       "1               0                       0               12         Tad_S   \n",
       "2               3                     150                2        Hugh_R   \n",
       "3               0                       0               13      Marcel_C   \n",
       "4               0                       0               14       Fritz_M   \n",
       "\n",
       "  Day of Week  Total Failures  Total Downtime  Total Downtime hr  \n",
       "0      Sunday               1              60               1.00  \n",
       "1     Tuesday               0               0               0.00  \n",
       "2      Friday               4             160               2.67  \n",
       "3      Monday               3             175               2.92  \n",
       "4    Saturday               1              55               0.92  "
      ]
     },
     "execution_count": 27,
     "metadata": {},
     "output_type": "execute_result"
    }
   ],
   "source": [
    "combined_df.head()"
   ]
  },
  {
   "cell_type": "code",
   "execution_count": 28,
   "metadata": {},
   "outputs": [
    {
     "name": "stdout",
     "output_type": "stream",
     "text": [
      "{'A': 0, 'B': 1}\n",
      "[0 1]\n"
     ]
    }
   ],
   "source": [
    "# we will inspect correlation between machine, shift, operator, total failures and total downtime variables\n",
    "# before doing so, we'll have to encode categorical variables\n",
    "\n",
    "shift_mapping = {k: i for i, k in enumerate(combined_df['Shift'].unique(), 0)}\n",
    "print(shift_mapping)\n",
    "\n",
    "# create a copy oc combined_df and save it to corr_df\n",
    "corr_df = combined_df.copy()\n",
    "\n",
    "# map new values to shift\n",
    "corr_df['Shift'] = combined_df['Shift'].map(shift_mapping)\n",
    "\n",
    "print(corr_df['Shift'].unique())"
   ]
  },
  {
   "cell_type": "code",
   "execution_count": 29,
   "metadata": {},
   "outputs": [
    {
     "data": {
      "text/plain": [
       "<matplotlib.axes._subplots.AxesSubplot at 0x7fab85313af0>"
      ]
     },
     "execution_count": 29,
     "metadata": {},
     "output_type": "execute_result"
    },
    {
     "data": {
      "image/png": "[encoded data removed]",
      "text/plain": [
       "<Figure size 1728x576 with 2 Axes>"
      ]
     },
     "metadata": {},
     "output_type": "display_data"
    }
   ],
   "source": [
    "# calculate correlation for variables of interest\n",
    "cols = ['Machine', 'Shift', 'Cable Failures', 'Cable Failure Downtime', 'Other Failures', 'Other Failure Downtime', 'Operator Number', 'Total Failures', 'Total Downtime']\n",
    "\n",
    "corr = corr_df[cols].corr()\n",
    "\n",
    "# plot correlation heatmap\n",
    "sns.heatmap(corr, \n",
    "            annot=True, \n",
    "            linewidths=.5,\n",
    "            square = True)"
   ]
  },
  {
   "cell_type": "markdown",
   "metadata": {},
   "source": [
    "Okay, let's take a look at the above map representing the correlation coefficients between different variables in the dataset.\n",
    "\n",
    "The correlation coefficient is a statistical measure of the strength of the relationship between the relative movements of two variables. A correlation of -1.0 shows a perfect negative correlation, while a correlation of 1.0 shows a perfect positive correlation. A correlation of 0.0 shows no linear relationship between the movement of the two variables.\n",
    "\n",
    "We can see that Total Downtime and Other Failure Downtime are highly correlated. This is expected because Other Failure Downtime directly contributed to Total Downtime. But notice how Cable Failure Downtime has a much lower correlation coefficient than that of Other Failure Downtime even though it is also a part of the equation? Does that mean it's not as good of an indicator?\n",
    "\n",
    "Same situation happened with Total Failures, Cable Failures and Other Failures variable\n",
    "\n",
    "Another good one is Operator Number and Machine. It looks like these 2 variables also have a higher correlation coefficient. As we discovered earlier, some operators only operated on a single machine, or the same machines throughout the time that the data was recorded, whether because they were assigned to or in charge of only one machine or a set of machines, or because we don't have enough data from other weeks that they worked on other machines."
   ]
  },
  {
   "cell_type": "markdown",
   "metadata": {},
   "source": [
    "# End"
   ]
  }
 ],
 "metadata": {
  "kernelspec": {
   "display_name": "Python 3",
   "language": "python",
   "name": "python3"
  },
  "language_info": {
   "codemirror_mode": {
    "name": "ipython",
    "version": 3
   },
   "file_extension": ".py",
   "mimetype": "text/x-python",
   "name": "python",
   "nbconvert_exporter": "python",
   "pygments_lexer": "ipython3",
   "version": "3.8.3"
  }
 },
 "nbformat": 4,
 "nbformat_minor": 5
}
