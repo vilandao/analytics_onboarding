{
 "cells": [
  {
   "cell_type": "markdown",
   "metadata": {
    "tags": []
   },
   "source": [
    "# Exploration\n",
    "Complete EDA.ipynb first!\n",
    "\n",
    "This notebook is a starting point for your own exploration of the data and should build upon your work and knowledge gained from EDA.ipynb. As a reminder, the goal is to identify the primary source(s) of failures and downtimes and, if possible, to assess the certainty of those conclusions.\n",
    "\n",
    "Some questions you could explore are:\n",
    "- Which Machines are responsible for 80% of overall Total Failures? Of overall Total Failure Downtime?\n",
    "- Are there significant differences in the performances of Machines, Shifts, or Operators?\n",
    "- If every minute of Cable Failure Downtime represents eight dollars of lost revenue and Other Failure Downtime represents five dollars then which Machines or Operators are responsible for the most lost revenue? "
   ]
  },
  {
   "cell_type": "code",
   "execution_count": 1,
   "metadata": {},
   "outputs": [],
   "source": [
    "# import libraries\n",
    "import pandas as pd\n",
    "import numpy as np\n",
    "\n",
    "import os\n",
    "\n",
    "import warnings\n",
    "warnings.filterwarnings('ignore')\n",
    "\n",
    "import matplotlib.pyplot as plt\n",
    "import seaborn as sns\n",
    "\n",
    "# a simple theme that's better than the default\n",
    "sns.set_theme(\n",
    "    context='notebook',\n",
    "    style='darkgrid', \n",
    "    palette='husl',\n",
    "    rc={\"figure.figsize\":(24, 8)}\n",
    ")\n",
    "\n",
    "# set pandas display option\n",
    "pd.set_option('display.max_columns', None)\n",
    "pd.set_option('display.max_rows', None)"
   ]
  },
  {
   "cell_type": "code",
   "execution_count": 2,
   "metadata": {},
   "outputs": [],
   "source": [
    "# function to load & process operator_file\n",
    "def get_operator_names(operator_file: str)->pd.DataFrame:\n",
    "   \n",
    "    \"\"\"\n",
    "    Load & process the contents of a file containing operator details.\n",
    "    \n",
    "    Params:\n",
    "    operator_file - str; the path to the operator file.\n",
    "    \n",
    "    Returns:\n",
    "    operator_df - pd.DataFrame; the extracted content of the operator file. The\n",
    "    columns should include Operator Number, First Name, & Last Initial.\n",
    "    \"\"\"\n",
    "    \n",
    "    assert isinstance(operator_file, str), 'operator_file is not of type str.'\n",
    "    \n",
    "    # create a list of columns for reference\n",
    "    columns = ['Operator Number', 'First Name', 'Last Initial']\n",
    "    \n",
    "    # load operator file\n",
    "    operator = pd.read_csv(operator_file,\n",
    "                           sep=r',', \n",
    "                           header = None,\n",
    "                           names = columns,\n",
    "                           delim_whitespace=True)\n",
    "    \n",
    "    # extract initial from last name\n",
    "    operator['Last Initial'] = operator['Last Initial'].astype(str).str[0]\n",
    "    \n",
    "    # create an empty df to fill with contents of operator_file\n",
    "    operator_df = pd.DataFrame(operator)\n",
    "    \n",
    "    return operator_df"
   ]
  },
  {
   "cell_type": "code",
   "execution_count": 3,
   "metadata": {},
   "outputs": [],
   "source": [
    "# function to load and combine copper_file with operator_file\n",
    "def load_combine(copper_file: str, operator_file: str)->pd.DataFrame:\n",
    "    \n",
    "    \"\"\"\n",
    "    Load, process & combine the contents of the copper_file and operator_df.\n",
    "    \n",
    "    Params:\n",
    "    copper_file - str; the path to the copper file.\n",
    "    operator_file - str; the path to the operator file.\n",
    "    \n",
    "    Returns:\n",
    "    combined_df - pd.DataFrame; the extracted and combined content of the \n",
    "        two files. There should be 10 columns available after combining the\n",
    "        two files and dropping any unecessary columns.   \n",
    "    \"\"\"\n",
    "    \n",
    "    assert isinstance(operator_file, str), 'operator_file path is not of type str.'\n",
    "    assert isinstance(copper_file, str), 'copper_file path is not of type str.'\n",
    "    \n",
    "    # Store columns to reference in a list\n",
    "    combination = ['Machine', 'Shift', 'Operator', 'Date']\n",
    "    aggregation = ['Cable Failures', 'Cable Failure Downtime', 'Other Failures', 'Other Failure Downtime']\n",
    "    \n",
    "    # find absolute path to files\n",
    "    abs_path_copper = os.path.abspath(copper_file)\n",
    "    abs_path_operator = os.path.abspath(operator_file)\n",
    "    \n",
    "    # load and remove duplicates on copper_file\n",
    "    copper_df = pd.read_excel(abs_path_copper, index_col = 0)\n",
    "    \n",
    "    # drop exact duplicates\n",
    "    copper_df = copper_df.drop_duplicates()\n",
    "    \n",
    "    # create a new data frame that stores and aggregate duplicate \n",
    "    # records per Machine-Shift-Operator-Date combination\n",
    "    dup_rows = copper_df.copy()\n",
    "    \n",
    "    dup_rows = dup_rows[dup_rows.duplicated(subset = combination, keep = False)]\n",
    "    dup_rows = pd.DataFrame(dup_rows.groupby(combination)[aggregation].sum())\n",
    "    dup_rows.reset_index(inplace = True)\n",
    "    \n",
    "    # drop duplicates within the column combination from copper_df\n",
    "    # and concatenate dup_rows and copper_df\n",
    "    \n",
    "    copper_df = copper_df.drop_duplicates(subset = combination, keep = False)\n",
    "\n",
    "    concat_dfs = [copper_df, dup_rows]\n",
    "    \n",
    "    copper_df = pd.concat(concat_dfs).reset_index(drop = True)\n",
    "    \n",
    "    print('There are {} rows in copper_file after dropping duplicates'.format(copper_df.shape[0]))\n",
    "    print('')\n",
    "    \n",
    "    # load and pre-process operator_file\n",
    "    \n",
    "    operator_df = get_operator_names(abs_path_operator)\n",
    "\n",
    "    # merge copper_df with operator_df using on 'Operator' = 'Operator Number'\n",
    "    combined_df = copper_df.merge(operator_df, \n",
    "                                  how='left', \n",
    "                                  left_on='Operator', \n",
    "                                  right_on='Operator Number')\n",
    "\n",
    "    # drop duplicated column & inspect the new combined table\n",
    "    combined_df.drop('Operator', axis=1, inplace=True)\n",
    "    \n",
    "    combined_df = pd.DataFrame(combined_df)\n",
    "    \n",
    "    return combined_df"
   ]
  },
  {
   "cell_type": "code",
   "execution_count": 4,
   "metadata": {},
   "outputs": [],
   "source": [
    "# function to feature engineer data frame\n",
    "def feature_engineer(df: pd.DataFrame)->pd.DataFrame:\n",
    "   \n",
    "    \"\"\"\n",
    "    Engineer new features for the combined_df data frame.\n",
    "    \n",
    "    Params:\n",
    "    df - DataFrame; the data frame used to add new features.\n",
    "    \n",
    "    Returns:\n",
    "    combined_df - pd.DataFrame; a new data frame with newly created features.\n",
    "        These features include 'Operator Name', Day of Week', 'Total Failure', 'Total Downtime', \n",
    "        and 'Total Failure Downtime'. A total of 13 features will be returned.\n",
    "    \"\"\"\n",
    "    \n",
    "    assert isinstance(df, pd.DataFrame), 'df is not a DataFrame.'\n",
    "    \n",
    "    cols = ['First Name', 'Last Initial']\n",
    "    \n",
    "    # create new features   \n",
    "    df['Operator Name'] = df['First Name'] + '_' + df['Last Initial']\n",
    "    df['Day of Week'] = df['Date'].dt.day_name()\n",
    "    df['Total Failures'] = df['Cable Failures'] + df['Other Failures']\n",
    "    df['Total Downtime min'] = df['Cable Failure Downtime'] + df['Other Failure Downtime']\n",
    "    df['Total Downtime hr'] = round(df['Total Downtime min']/60, 2)\n",
    "    \n",
    "    # create an empty combined_df and fill with content with df\n",
    "    combined_df = pd.DataFrame(df)\n",
    "    \n",
    "    combined_df.drop(cols, axis=1, inplace=True)\n",
    "    \n",
    "    return combined_df"
   ]
  },
  {
   "cell_type": "code",
   "execution_count": 5,
   "metadata": {},
   "outputs": [
    {
     "name": "stdout",
     "output_type": "stream",
     "text": [
      "There are 145 rows in copper_file after dropping duplicates\n",
      "\n"
     ]
    },
    {
     "data": {
      "text/html": [
       "<div>\n",
       "<style scoped>\n",
       "    .dataframe tbody tr th:only-of-type {\n",
       "        vertical-align: middle;\n",
       "    }\n",
       "\n",
       "    .dataframe tbody tr th {\n",
       "        vertical-align: top;\n",
       "    }\n",
       "\n",
       "    .dataframe thead th {\n",
       "        text-align: right;\n",
       "    }\n",
       "</style>\n",
       "<table border=\"1\" class=\"dataframe\">\n",
       "  <thead>\n",
       "    <tr style=\"text-align: right;\">\n",
       "      <th></th>\n",
       "      <th>Machine</th>\n",
       "      <th>Shift</th>\n",
       "      <th>Date</th>\n",
       "      <th>Cable Failures</th>\n",
       "      <th>Cable Failure Downtime</th>\n",
       "      <th>Other Failures</th>\n",
       "      <th>Other Failure Downtime</th>\n",
       "      <th>Operator Number</th>\n",
       "      <th>First Name</th>\n",
       "      <th>Last Initial</th>\n",
       "    </tr>\n",
       "  </thead>\n",
       "  <tbody>\n",
       "    <tr>\n",
       "      <th>0</th>\n",
       "      <td>6</td>\n",
       "      <td>A</td>\n",
       "      <td>2020-11-15</td>\n",
       "      <td>0</td>\n",
       "      <td>0</td>\n",
       "      <td>1</td>\n",
       "      <td>60</td>\n",
       "      <td>12</td>\n",
       "      <td>Tad</td>\n",
       "      <td>S</td>\n",
       "    </tr>\n",
       "    <tr>\n",
       "      <th>1</th>\n",
       "      <td>6</td>\n",
       "      <td>B</td>\n",
       "      <td>2020-11-10</td>\n",
       "      <td>0</td>\n",
       "      <td>0</td>\n",
       "      <td>0</td>\n",
       "      <td>0</td>\n",
       "      <td>12</td>\n",
       "      <td>Tad</td>\n",
       "      <td>S</td>\n",
       "    </tr>\n",
       "    <tr>\n",
       "      <th>2</th>\n",
       "      <td>2</td>\n",
       "      <td>A</td>\n",
       "      <td>2020-11-06</td>\n",
       "      <td>1</td>\n",
       "      <td>10</td>\n",
       "      <td>3</td>\n",
       "      <td>150</td>\n",
       "      <td>2</td>\n",
       "      <td>Hugh</td>\n",
       "      <td>R</td>\n",
       "    </tr>\n",
       "    <tr>\n",
       "      <th>3</th>\n",
       "      <td>8</td>\n",
       "      <td>B</td>\n",
       "      <td>2020-11-16</td>\n",
       "      <td>3</td>\n",
       "      <td>175</td>\n",
       "      <td>0</td>\n",
       "      <td>0</td>\n",
       "      <td>13</td>\n",
       "      <td>Marcel</td>\n",
       "      <td>C</td>\n",
       "    </tr>\n",
       "    <tr>\n",
       "      <th>4</th>\n",
       "      <td>2</td>\n",
       "      <td>B</td>\n",
       "      <td>2020-11-09</td>\n",
       "      <td>0</td>\n",
       "      <td>0</td>\n",
       "      <td>1</td>\n",
       "      <td>20</td>\n",
       "      <td>1</td>\n",
       "      <td>Courtney</td>\n",
       "      <td>H</td>\n",
       "    </tr>\n",
       "  </tbody>\n",
       "</table>\n",
       "</div>"
      ],
      "text/plain": [
       "   Machine Shift       Date  Cable Failures  Cable Failure Downtime  \\\n",
       "0        6     A 2020-11-15               0                       0   \n",
       "1        6     B 2020-11-10               0                       0   \n",
       "2        2     A 2020-11-06               1                      10   \n",
       "3        8     B 2020-11-16               3                     175   \n",
       "4        2     B 2020-11-09               0                       0   \n",
       "\n",
       "   Other Failures  Other Failure Downtime  Operator Number First Name  \\\n",
       "0               1                      60               12        Tad   \n",
       "1               0                       0               12        Tad   \n",
       "2               3                     150                2       Hugh   \n",
       "3               0                       0               13     Marcel   \n",
       "4               1                      20                1   Courtney   \n",
       "\n",
       "  Last Initial  \n",
       "0            S  \n",
       "1            S  \n",
       "2            R  \n",
       "3            C  \n",
       "4            H  "
      ]
     },
     "execution_count": 5,
     "metadata": {},
     "output_type": "execute_result"
    }
   ],
   "source": [
    "# get the paths of the 2 files\n",
    "copper_file = 'data/copper_production_v1.xlsx'\n",
    "operator_file = 'data/operator_names.txt'\n",
    "\n",
    "# combine 2 files using pre-defined function and print out the first 5 rows\n",
    "df = load_combine(copper_file, operator_file)\n",
    "df.head()"
   ]
  },
  {
   "cell_type": "code",
   "execution_count": 17,
   "metadata": {},
   "outputs": [
    {
     "data": {
      "text/html": [
       "<div>\n",
       "<style scoped>\n",
       "    .dataframe tbody tr th:only-of-type {\n",
       "        vertical-align: middle;\n",
       "    }\n",
       "\n",
       "    .dataframe tbody tr th {\n",
       "        vertical-align: top;\n",
       "    }\n",
       "\n",
       "    .dataframe thead th {\n",
       "        text-align: right;\n",
       "    }\n",
       "</style>\n",
       "<table border=\"1\" class=\"dataframe\">\n",
       "  <thead>\n",
       "    <tr style=\"text-align: right;\">\n",
       "      <th></th>\n",
       "      <th>Machine</th>\n",
       "      <th>Shift</th>\n",
       "      <th>Date</th>\n",
       "      <th>Cable Failures</th>\n",
       "      <th>Cable Failure Downtime</th>\n",
       "      <th>Other Failures</th>\n",
       "      <th>Other Failure Downtime</th>\n",
       "      <th>Operator Number</th>\n",
       "      <th>Operator Name</th>\n",
       "      <th>Day of Week</th>\n",
       "      <th>Total Failures</th>\n",
       "      <th>Total Downtime min</th>\n",
       "      <th>Total Downtime hr</th>\n",
       "    </tr>\n",
       "  </thead>\n",
       "  <tbody>\n",
       "    <tr>\n",
       "      <th>0</th>\n",
       "      <td>6</td>\n",
       "      <td>A</td>\n",
       "      <td>2020-11-15</td>\n",
       "      <td>0</td>\n",
       "      <td>0</td>\n",
       "      <td>1</td>\n",
       "      <td>60</td>\n",
       "      <td>12</td>\n",
       "      <td>Tad_S</td>\n",
       "      <td>Sunday</td>\n",
       "      <td>1</td>\n",
       "      <td>60</td>\n",
       "      <td>1.00</td>\n",
       "    </tr>\n",
       "    <tr>\n",
       "      <th>1</th>\n",
       "      <td>6</td>\n",
       "      <td>B</td>\n",
       "      <td>2020-11-10</td>\n",
       "      <td>0</td>\n",
       "      <td>0</td>\n",
       "      <td>0</td>\n",
       "      <td>0</td>\n",
       "      <td>12</td>\n",
       "      <td>Tad_S</td>\n",
       "      <td>Tuesday</td>\n",
       "      <td>0</td>\n",
       "      <td>0</td>\n",
       "      <td>0.00</td>\n",
       "    </tr>\n",
       "    <tr>\n",
       "      <th>2</th>\n",
       "      <td>2</td>\n",
       "      <td>A</td>\n",
       "      <td>2020-11-06</td>\n",
       "      <td>1</td>\n",
       "      <td>10</td>\n",
       "      <td>3</td>\n",
       "      <td>150</td>\n",
       "      <td>2</td>\n",
       "      <td>Hugh_R</td>\n",
       "      <td>Friday</td>\n",
       "      <td>4</td>\n",
       "      <td>160</td>\n",
       "      <td>2.67</td>\n",
       "    </tr>\n",
       "    <tr>\n",
       "      <th>3</th>\n",
       "      <td>8</td>\n",
       "      <td>B</td>\n",
       "      <td>2020-11-16</td>\n",
       "      <td>3</td>\n",
       "      <td>175</td>\n",
       "      <td>0</td>\n",
       "      <td>0</td>\n",
       "      <td>13</td>\n",
       "      <td>Marcel_C</td>\n",
       "      <td>Monday</td>\n",
       "      <td>3</td>\n",
       "      <td>175</td>\n",
       "      <td>2.92</td>\n",
       "    </tr>\n",
       "    <tr>\n",
       "      <th>4</th>\n",
       "      <td>2</td>\n",
       "      <td>B</td>\n",
       "      <td>2020-11-09</td>\n",
       "      <td>0</td>\n",
       "      <td>0</td>\n",
       "      <td>1</td>\n",
       "      <td>20</td>\n",
       "      <td>1</td>\n",
       "      <td>Courtney_H</td>\n",
       "      <td>Monday</td>\n",
       "      <td>1</td>\n",
       "      <td>20</td>\n",
       "      <td>0.33</td>\n",
       "    </tr>\n",
       "  </tbody>\n",
       "</table>\n",
       "</div>"
      ],
      "text/plain": [
       "   Machine Shift       Date  Cable Failures  Cable Failure Downtime  \\\n",
       "0        6     A 2020-11-15               0                       0   \n",
       "1        6     B 2020-11-10               0                       0   \n",
       "2        2     A 2020-11-06               1                      10   \n",
       "3        8     B 2020-11-16               3                     175   \n",
       "4        2     B 2020-11-09               0                       0   \n",
       "\n",
       "   Other Failures  Other Failure Downtime  Operator Number Operator Name  \\\n",
       "0               1                      60               12         Tad_S   \n",
       "1               0                       0               12         Tad_S   \n",
       "2               3                     150                2        Hugh_R   \n",
       "3               0                       0               13      Marcel_C   \n",
       "4               1                      20                1    Courtney_H   \n",
       "\n",
       "  Day of Week  Total Failures  Total Downtime min  Total Downtime hr  \n",
       "0      Sunday               1                  60               1.00  \n",
       "1     Tuesday               0                   0               0.00  \n",
       "2      Friday               4                 160               2.67  \n",
       "3      Monday               3                 175               2.92  \n",
       "4      Monday               1                  20               0.33  "
      ]
     },
     "execution_count": 17,
     "metadata": {},
     "output_type": "execute_result"
    }
   ],
   "source": [
    "# feature engineer df dataframe using pre-defined function and print out first 5 rows\n",
    "combined_df = feature_engineer(df)\n",
    "\n",
    "combined_df.head()"
   ]
  },
  {
   "cell_type": "code",
   "execution_count": 7,
   "metadata": {},
   "outputs": [
    {
     "name": "stdout",
     "output_type": "stream",
     "text": [
      "<class 'pandas.core.frame.DataFrame'>\n",
      "Int64Index: 145 entries, 0 to 144\n",
      "Data columns (total 13 columns):\n",
      " #   Column                  Non-Null Count  Dtype         \n",
      "---  ------                  --------------  -----         \n",
      " 0   Machine                 145 non-null    int64         \n",
      " 1   Shift                   145 non-null    object        \n",
      " 2   Date                    145 non-null    datetime64[ns]\n",
      " 3   Cable Failures          145 non-null    int64         \n",
      " 4   Cable Failure Downtime  145 non-null    int64         \n",
      " 5   Other Failures          145 non-null    int64         \n",
      " 6   Other Failure Downtime  145 non-null    int64         \n",
      " 7   Operator Number         145 non-null    int64         \n",
      " 8   Operator Name           145 non-null    object        \n",
      " 9   Day of Week             145 non-null    object        \n",
      " 10  Total Failures          145 non-null    int64         \n",
      " 11  Total Downtime min      145 non-null    int64         \n",
      " 12  Total Downtime hr       145 non-null    float64       \n",
      "dtypes: datetime64[ns](1), float64(1), int64(8), object(3)\n",
      "memory usage: 15.9+ KB\n"
     ]
    }
   ],
   "source": [
    "# inspect column datatype and check columns with missing values\n",
    "combined_df.info()"
   ]
  },
  {
   "cell_type": "code",
   "execution_count": 8,
   "metadata": {},
   "outputs": [
    {
     "data": {
      "text/html": [
       "<div>\n",
       "<style scoped>\n",
       "    .dataframe tbody tr th:only-of-type {\n",
       "        vertical-align: middle;\n",
       "    }\n",
       "\n",
       "    .dataframe tbody tr th {\n",
       "        vertical-align: top;\n",
       "    }\n",
       "\n",
       "    .dataframe thead th {\n",
       "        text-align: right;\n",
       "    }\n",
       "</style>\n",
       "<table border=\"1\" class=\"dataframe\">\n",
       "  <thead>\n",
       "    <tr style=\"text-align: right;\">\n",
       "      <th></th>\n",
       "      <th>count</th>\n",
       "      <th>mean</th>\n",
       "      <th>std</th>\n",
       "      <th>min</th>\n",
       "      <th>25%</th>\n",
       "      <th>50%</th>\n",
       "      <th>75%</th>\n",
       "      <th>max</th>\n",
       "    </tr>\n",
       "  </thead>\n",
       "  <tbody>\n",
       "    <tr>\n",
       "      <th>Machine</th>\n",
       "      <td>145.0</td>\n",
       "      <td>5.910345</td>\n",
       "      <td>4.347600</td>\n",
       "      <td>1.0</td>\n",
       "      <td>2.0</td>\n",
       "      <td>5.0</td>\n",
       "      <td>8.00</td>\n",
       "      <td>17.0</td>\n",
       "    </tr>\n",
       "    <tr>\n",
       "      <th>Cable Failures</th>\n",
       "      <td>145.0</td>\n",
       "      <td>1.448276</td>\n",
       "      <td>1.353653</td>\n",
       "      <td>0.0</td>\n",
       "      <td>0.0</td>\n",
       "      <td>1.0</td>\n",
       "      <td>2.00</td>\n",
       "      <td>6.0</td>\n",
       "    </tr>\n",
       "    <tr>\n",
       "      <th>Cable Failure Downtime</th>\n",
       "      <td>145.0</td>\n",
       "      <td>52.862069</td>\n",
       "      <td>58.004265</td>\n",
       "      <td>0.0</td>\n",
       "      <td>0.0</td>\n",
       "      <td>35.0</td>\n",
       "      <td>75.00</td>\n",
       "      <td>295.0</td>\n",
       "    </tr>\n",
       "    <tr>\n",
       "      <th>Other Failures</th>\n",
       "      <td>145.0</td>\n",
       "      <td>0.551724</td>\n",
       "      <td>0.985527</td>\n",
       "      <td>0.0</td>\n",
       "      <td>0.0</td>\n",
       "      <td>0.0</td>\n",
       "      <td>1.00</td>\n",
       "      <td>9.0</td>\n",
       "    </tr>\n",
       "    <tr>\n",
       "      <th>Other Failure Downtime</th>\n",
       "      <td>145.0</td>\n",
       "      <td>48.344828</td>\n",
       "      <td>108.240433</td>\n",
       "      <td>0.0</td>\n",
       "      <td>0.0</td>\n",
       "      <td>0.0</td>\n",
       "      <td>45.00</td>\n",
       "      <td>690.0</td>\n",
       "    </tr>\n",
       "    <tr>\n",
       "      <th>Operator Number</th>\n",
       "      <td>145.0</td>\n",
       "      <td>12.993103</td>\n",
       "      <td>8.765856</td>\n",
       "      <td>1.0</td>\n",
       "      <td>6.0</td>\n",
       "      <td>12.0</td>\n",
       "      <td>19.00</td>\n",
       "      <td>32.0</td>\n",
       "    </tr>\n",
       "    <tr>\n",
       "      <th>Total Failures</th>\n",
       "      <td>145.0</td>\n",
       "      <td>2.000000</td>\n",
       "      <td>1.448179</td>\n",
       "      <td>0.0</td>\n",
       "      <td>1.0</td>\n",
       "      <td>1.0</td>\n",
       "      <td>3.00</td>\n",
       "      <td>9.0</td>\n",
       "    </tr>\n",
       "    <tr>\n",
       "      <th>Total Downtime min</th>\n",
       "      <td>145.0</td>\n",
       "      <td>101.206897</td>\n",
       "      <td>114.008826</td>\n",
       "      <td>0.0</td>\n",
       "      <td>30.0</td>\n",
       "      <td>60.0</td>\n",
       "      <td>130.00</td>\n",
       "      <td>690.0</td>\n",
       "    </tr>\n",
       "    <tr>\n",
       "      <th>Total Downtime hr</th>\n",
       "      <td>145.0</td>\n",
       "      <td>1.686966</td>\n",
       "      <td>1.900316</td>\n",
       "      <td>0.0</td>\n",
       "      <td>0.5</td>\n",
       "      <td>1.0</td>\n",
       "      <td>2.17</td>\n",
       "      <td>11.5</td>\n",
       "    </tr>\n",
       "  </tbody>\n",
       "</table>\n",
       "</div>"
      ],
      "text/plain": [
       "                        count        mean         std  min   25%   50%  \\\n",
       "Machine                 145.0    5.910345    4.347600  1.0   2.0   5.0   \n",
       "Cable Failures          145.0    1.448276    1.353653  0.0   0.0   1.0   \n",
       "Cable Failure Downtime  145.0   52.862069   58.004265  0.0   0.0  35.0   \n",
       "Other Failures          145.0    0.551724    0.985527  0.0   0.0   0.0   \n",
       "Other Failure Downtime  145.0   48.344828  108.240433  0.0   0.0   0.0   \n",
       "Operator Number         145.0   12.993103    8.765856  1.0   6.0  12.0   \n",
       "Total Failures          145.0    2.000000    1.448179  0.0   1.0   1.0   \n",
       "Total Downtime min      145.0  101.206897  114.008826  0.0  30.0  60.0   \n",
       "Total Downtime hr       145.0    1.686966    1.900316  0.0   0.5   1.0   \n",
       "\n",
       "                           75%    max  \n",
       "Machine                   8.00   17.0  \n",
       "Cable Failures            2.00    6.0  \n",
       "Cable Failure Downtime   75.00  295.0  \n",
       "Other Failures            1.00    9.0  \n",
       "Other Failure Downtime   45.00  690.0  \n",
       "Operator Number          19.00   32.0  \n",
       "Total Failures            3.00    9.0  \n",
       "Total Downtime min      130.00  690.0  \n",
       "Total Downtime hr         2.17   11.5  "
      ]
     },
     "execution_count": 8,
     "metadata": {},
     "output_type": "execute_result"
    }
   ],
   "source": [
    "# combined_df simple statistics on numeric variables\n",
    "combined_df.describe().T"
   ]
  },
  {
   "cell_type": "code",
   "execution_count": 9,
   "metadata": {},
   "outputs": [
    {
     "name": "stdout",
     "output_type": "stream",
     "text": [
      "['A' 'B']\n",
      "\n",
      "['Archy_B' 'Bennett_W' 'Byron_B' 'Christopher_G' 'Connie_M' 'Courtney_H'\n",
      " 'David_S' 'Delmer_K' 'Diego_S' 'Dudley_S' 'Elliott_V' 'Eugene_W'\n",
      " 'Floyd_G' 'Francisco_L' 'Fritz_M' 'Gonzalo_J' 'Harlan_B' 'Hess_H'\n",
      " 'Hugh_R' 'Joesph_W' 'Jose_G' 'Lilly_Z' 'Lindsey_F' 'Marcel_C' 'Maurice_O'\n",
      " 'Nichole_H' 'Norris_H' 'Rodney_G' 'Roland_M' 'Tad_S' 'Vince_F'\n",
      " 'Woodrow_S']\n",
      "\n",
      "['Friday' 'Monday' 'Saturday' 'Sunday' 'Thursday' 'Tuesday' 'Wednesday']\n",
      "\n"
     ]
    }
   ],
   "source": [
    "# inspect categorical variables\n",
    "columns = ['Shift', 'Operator Name', 'Day of Week']\n",
    "\n",
    "for col in combined_df[columns].columns:\n",
    "    print(np.sort(combined_df[col].unique()))\n",
    "    print('')"
   ]
  },
  {
   "cell_type": "code",
   "execution_count": 22,
   "metadata": {},
   "outputs": [
    {
     "name": "stdout",
     "output_type": "stream",
     "text": [
      "There are 16 unique dates in the dataset\n",
      "\n",
      "The missing date(s): \n"
     ]
    },
    {
     "data": {
      "text/plain": [
       "DatetimeIndex(['2020-11-11'], dtype='datetime64[ns]', freq=None)"
      ]
     },
     "execution_count": 22,
     "metadata": {},
     "output_type": "execute_result"
    }
   ],
   "source": [
    "# inspect date variable\n",
    "print('There are {} unique dates in the dataset'.format(combined_df['Date'].nunique()))\n",
    "print('')\n",
    "\n",
    "# identify if any dates are missing in the data\n",
    "date_max = combined_df['Date'].max()\n",
    "date_min = combined_df['Date'].min()\n",
    "\n",
    "print('The missing date(s): ')\n",
    "\n",
    "pd.date_range(start = date_min, end = date_max).difference(combined_df['Date'])"
   ]
  },
  {
   "cell_type": "markdown",
   "metadata": {},
   "source": [
    "## Machine variable vs total failures/downtime\n",
    "\n",
    "#### 1. What machine were used the most out of all machines?"
   ]
  },
  {
   "cell_type": "code",
   "execution_count": 11,
   "metadata": {},
   "outputs": [
    {
     "data": {
      "text/plain": [
       "<matplotlib.axes._subplots.AxesSubplot at 0x7f82422a2580>"
      ]
     },
     "execution_count": 11,
     "metadata": {},
     "output_type": "execute_result"
    },
    {
     "data": {
      "image/png": "[encoded data removed]",
      "text/plain": [
       "<Figure size 1728x576 with 1 Axes>"
      ]
     },
     "metadata": {},
     "output_type": "display_data"
    }
   ],
   "source": [
    "# create machine_proportion and draw a barchart\n",
    "machine_proportion= combined_df.groupby('Machine')['Machine'].count()/len(combined_df)*100\n",
    "\n",
    "machine_proportion.sort_values(ascending=False).plot(kind='bar',\n",
    "                                                     title = 'Machine usage proportion (%)')"
   ]
  },
  {
   "cell_type": "markdown",
   "metadata": {},
   "source": [
    "According to the above bar chart, machine number 2 was used the most out of all other machines (18.6% of total machine usage)"
   ]
  },
  {
   "cell_type": "markdown",
   "metadata": {},
   "source": [
    "#### 2. What machine are responsible for the most failures and downtime?"
   ]
  },
  {
   "cell_type": "code",
   "execution_count": 12,
   "metadata": {},
   "outputs": [
    {
     "data": {
      "text/plain": [
       "<matplotlib.axes._subplots.AxesSubplot at 0x7f8242897100>"
      ]
     },
     "execution_count": 12,
     "metadata": {},
     "output_type": "execute_result"
    },
    {
     "data": {
      "image/png": "[encoded data removed]",
      "text/plain": [
       "<Figure size 1728x576 with 1 Axes>"
      ]
     },
     "metadata": {},
     "output_type": "display_data"
    }
   ],
   "source": [
    "# create new dataframe that capture the relationship between machine and total failures/downtime\n",
    "machine_failure_downtime = combined_df.groupby('Machine')['Total Failures', 'Total Downtime hr'].sum()\n",
    "\n",
    "machine_failure_downtime.plot(kind='bar', \n",
    "                              title = 'Machines vs Total Failures/Downtime')"
   ]
  },
  {
   "cell_type": "code",
   "execution_count": 13,
   "metadata": {},
   "outputs": [
    {
     "data": {
      "text/plain": [
       "Machine\n",
       "2    27.241379\n",
       "8    14.137931\n",
       "3    10.344828\n",
       "7    10.000000\n",
       "1     6.896552\n",
       "Name: Total Failures, dtype: float64"
      ]
     },
     "execution_count": 13,
     "metadata": {},
     "output_type": "execute_result"
    }
   ],
   "source": [
    "# proportion of total failures per each machine\n",
    "machine_failure = combined_df.groupby('Machine')['Total Failures'].sum()/combined_df['Total Failures'].sum()*100\n",
    "machine_failure.sort_values(ascending = False).head()"
   ]
  },
  {
   "cell_type": "code",
   "execution_count": 14,
   "metadata": {},
   "outputs": [
    {
     "data": {
      "text/plain": [
       "Machine\n",
       "8    29.132088\n",
       "2    19.079351\n",
       "1     9.337312\n",
       "7     7.906463\n",
       "5     6.741343\n",
       "Name: Total Downtime hr, dtype: float64"
      ]
     },
     "execution_count": 14,
     "metadata": {},
     "output_type": "execute_result"
    }
   ],
   "source": [
    "# percent of downtime(hr)/total downtime(hr) per each machine\n",
    "machine_downtime = combined_df.groupby('Machine')['Total Downtime hr'].sum()/combined_df['Total Downtime hr'].sum()*100\n",
    "machine_downtime.sort_values(ascending = False).head()"
   ]
  },
  {
   "cell_type": "markdown",
   "metadata": {},
   "source": [
    "Even though machine 2 was ultilized the most and contributed to the highest number of failures (about 28% of total failures), machine 8 caused the highest number of downtime (70 hrs or 29% of total downtime hrs). This means machines associated with the highest number of failures don't necessarily caused the longest downtime."
   ]
  },
  {
   "cell_type": "markdown",
   "metadata": {},
   "source": [
    "#### 3. What machine should be focused on?"
   ]
  },
  {
   "cell_type": "code",
   "execution_count": 15,
   "metadata": {},
   "outputs": [
    {
     "ename": "KeyError",
     "evalue": "\"['Total Downtime'] not in index\"",
     "output_type": "error",
     "traceback": [
      "\u001b[0;31m---------------------------------------------------------------------------\u001b[0m",
      "\u001b[0;31mKeyError\u001b[0m                                  Traceback (most recent call last)",
      "\u001b[0;32m<ipython-input-15-cb73c7c4b7ce>\u001b[0m in \u001b[0;36m<module>\u001b[0;34m\u001b[0m\n\u001b[1;32m      1\u001b[0m \u001b[0;31m# create avg downtime/failure metric for each machine\u001b[0m\u001b[0;34m\u001b[0m\u001b[0;34m\u001b[0m\u001b[0;34m\u001b[0m\u001b[0m\n\u001b[0;32m----> 2\u001b[0;31m \u001b[0mmachine_downtime_per_failure\u001b[0m \u001b[0;34m=\u001b[0m \u001b[0mcombined_df\u001b[0m\u001b[0;34m[\u001b[0m\u001b[0;34m[\u001b[0m\u001b[0;34m'Machine'\u001b[0m\u001b[0;34m,\u001b[0m \u001b[0;34m'Total Failures'\u001b[0m\u001b[0;34m,\u001b[0m \u001b[0;34m'Total Downtime'\u001b[0m\u001b[0;34m]\u001b[0m\u001b[0;34m]\u001b[0m\u001b[0;34m\u001b[0m\u001b[0;34m\u001b[0m\u001b[0m\n\u001b[0m\u001b[1;32m      3\u001b[0m \u001b[0;34m\u001b[0m\u001b[0m\n\u001b[1;32m      4\u001b[0m \u001b[0mmachine_downtime_per_failure\u001b[0m \u001b[0;34m=\u001b[0m \u001b[0mmachine_downtime_per_failure\u001b[0m\u001b[0;34m.\u001b[0m\u001b[0mgroupby\u001b[0m\u001b[0;34m(\u001b[0m\u001b[0;34m'Machine'\u001b[0m\u001b[0;34m)\u001b[0m\u001b[0;34m[\u001b[0m\u001b[0;34m[\u001b[0m\u001b[0;34m'Total Failures'\u001b[0m\u001b[0;34m,\u001b[0m\u001b[0;34m'Total Downtime'\u001b[0m\u001b[0;34m]\u001b[0m\u001b[0;34m]\u001b[0m\u001b[0;34m.\u001b[0m\u001b[0msum\u001b[0m\u001b[0;34m(\u001b[0m\u001b[0;34m)\u001b[0m\u001b[0;34m\u001b[0m\u001b[0;34m\u001b[0m\u001b[0m\n\u001b[1;32m      5\u001b[0m \u001b[0;34m\u001b[0m\u001b[0m\n",
      "\u001b[0;32m~/opt/anaconda3/lib/python3.8/site-packages/pandas/core/frame.py\u001b[0m in \u001b[0;36m__getitem__\u001b[0;34m(self, key)\u001b[0m\n\u001b[1;32m   2804\u001b[0m             \u001b[0;32mif\u001b[0m \u001b[0mis_iterator\u001b[0m\u001b[0;34m(\u001b[0m\u001b[0mkey\u001b[0m\u001b[0;34m)\u001b[0m\u001b[0;34m:\u001b[0m\u001b[0;34m\u001b[0m\u001b[0;34m\u001b[0m\u001b[0m\n\u001b[1;32m   2805\u001b[0m                 \u001b[0mkey\u001b[0m \u001b[0;34m=\u001b[0m \u001b[0mlist\u001b[0m\u001b[0;34m(\u001b[0m\u001b[0mkey\u001b[0m\u001b[0;34m)\u001b[0m\u001b[0;34m\u001b[0m\u001b[0;34m\u001b[0m\u001b[0m\n\u001b[0;32m-> 2806\u001b[0;31m             \u001b[0mindexer\u001b[0m \u001b[0;34m=\u001b[0m \u001b[0mself\u001b[0m\u001b[0;34m.\u001b[0m\u001b[0mloc\u001b[0m\u001b[0;34m.\u001b[0m\u001b[0m_get_listlike_indexer\u001b[0m\u001b[0;34m(\u001b[0m\u001b[0mkey\u001b[0m\u001b[0;34m,\u001b[0m \u001b[0maxis\u001b[0m\u001b[0;34m=\u001b[0m\u001b[0;36m1\u001b[0m\u001b[0;34m,\u001b[0m \u001b[0mraise_missing\u001b[0m\u001b[0;34m=\u001b[0m\u001b[0;32mTrue\u001b[0m\u001b[0;34m)\u001b[0m\u001b[0;34m[\u001b[0m\u001b[0;36m1\u001b[0m\u001b[0;34m]\u001b[0m\u001b[0;34m\u001b[0m\u001b[0;34m\u001b[0m\u001b[0m\n\u001b[0m\u001b[1;32m   2807\u001b[0m \u001b[0;34m\u001b[0m\u001b[0m\n\u001b[1;32m   2808\u001b[0m         \u001b[0;31m# take() does not accept boolean indexers\u001b[0m\u001b[0;34m\u001b[0m\u001b[0;34m\u001b[0m\u001b[0;34m\u001b[0m\u001b[0m\n",
      "\u001b[0;32m~/opt/anaconda3/lib/python3.8/site-packages/pandas/core/indexing.py\u001b[0m in \u001b[0;36m_get_listlike_indexer\u001b[0;34m(self, key, axis, raise_missing)\u001b[0m\n\u001b[1;32m   1550\u001b[0m             \u001b[0mkeyarr\u001b[0m\u001b[0;34m,\u001b[0m \u001b[0mindexer\u001b[0m\u001b[0;34m,\u001b[0m \u001b[0mnew_indexer\u001b[0m \u001b[0;34m=\u001b[0m \u001b[0max\u001b[0m\u001b[0;34m.\u001b[0m\u001b[0m_reindex_non_unique\u001b[0m\u001b[0;34m(\u001b[0m\u001b[0mkeyarr\u001b[0m\u001b[0;34m)\u001b[0m\u001b[0;34m\u001b[0m\u001b[0;34m\u001b[0m\u001b[0m\n\u001b[1;32m   1551\u001b[0m \u001b[0;34m\u001b[0m\u001b[0m\n\u001b[0;32m-> 1552\u001b[0;31m         self._validate_read_indexer(\n\u001b[0m\u001b[1;32m   1553\u001b[0m             \u001b[0mkeyarr\u001b[0m\u001b[0;34m,\u001b[0m \u001b[0mindexer\u001b[0m\u001b[0;34m,\u001b[0m \u001b[0mo\u001b[0m\u001b[0;34m.\u001b[0m\u001b[0m_get_axis_number\u001b[0m\u001b[0;34m(\u001b[0m\u001b[0maxis\u001b[0m\u001b[0;34m)\u001b[0m\u001b[0;34m,\u001b[0m \u001b[0mraise_missing\u001b[0m\u001b[0;34m=\u001b[0m\u001b[0mraise_missing\u001b[0m\u001b[0;34m\u001b[0m\u001b[0;34m\u001b[0m\u001b[0m\n\u001b[1;32m   1554\u001b[0m         )\n",
      "\u001b[0;32m~/opt/anaconda3/lib/python3.8/site-packages/pandas/core/indexing.py\u001b[0m in \u001b[0;36m_validate_read_indexer\u001b[0;34m(self, key, indexer, axis, raise_missing)\u001b[0m\n\u001b[1;32m   1644\u001b[0m             \u001b[0;32mif\u001b[0m \u001b[0;32mnot\u001b[0m \u001b[0;34m(\u001b[0m\u001b[0mself\u001b[0m\u001b[0;34m.\u001b[0m\u001b[0mname\u001b[0m \u001b[0;34m==\u001b[0m \u001b[0;34m\"loc\"\u001b[0m \u001b[0;32mand\u001b[0m \u001b[0;32mnot\u001b[0m \u001b[0mraise_missing\u001b[0m\u001b[0;34m)\u001b[0m\u001b[0;34m:\u001b[0m\u001b[0;34m\u001b[0m\u001b[0;34m\u001b[0m\u001b[0m\n\u001b[1;32m   1645\u001b[0m                 \u001b[0mnot_found\u001b[0m \u001b[0;34m=\u001b[0m \u001b[0mlist\u001b[0m\u001b[0;34m(\u001b[0m\u001b[0mset\u001b[0m\u001b[0;34m(\u001b[0m\u001b[0mkey\u001b[0m\u001b[0;34m)\u001b[0m \u001b[0;34m-\u001b[0m \u001b[0mset\u001b[0m\u001b[0;34m(\u001b[0m\u001b[0max\u001b[0m\u001b[0;34m)\u001b[0m\u001b[0;34m)\u001b[0m\u001b[0;34m\u001b[0m\u001b[0;34m\u001b[0m\u001b[0m\n\u001b[0;32m-> 1646\u001b[0;31m                 \u001b[0;32mraise\u001b[0m \u001b[0mKeyError\u001b[0m\u001b[0;34m(\u001b[0m\u001b[0;34mf\"{not_found} not in index\"\u001b[0m\u001b[0;34m)\u001b[0m\u001b[0;34m\u001b[0m\u001b[0;34m\u001b[0m\u001b[0m\n\u001b[0m\u001b[1;32m   1647\u001b[0m \u001b[0;34m\u001b[0m\u001b[0m\n\u001b[1;32m   1648\u001b[0m             \u001b[0;31m# we skip the warning on Categorical/Interval\u001b[0m\u001b[0;34m\u001b[0m\u001b[0;34m\u001b[0m\u001b[0;34m\u001b[0m\u001b[0m\n",
      "\u001b[0;31mKeyError\u001b[0m: \"['Total Downtime'] not in index\""
     ]
    }
   ],
   "source": [
    "# create avg downtime/failure metric for each machine\n",
    "machine_downtime_per_failure = combined_df[['Machine', 'Total Failures', 'Total Downtime']]\n",
    "\n",
    "machine_downtime_per_failure = machine_downtime_per_failure.groupby('Machine')[['Total Failures','Total Downtime']].sum()\n",
    "\n",
    "machine_downtime_per_failure['Avg Downtime(min)/Failure'] = machine_downtime_per_failure['Total Downtime']/ machine_downtime_per_failure['Total Failures']\n",
    "\n",
    "machine_downtime_per_failure.sort_values(by = 'Avg Downtime(min)/Failure', ascending = False)"
   ]
  },
  {
   "cell_type": "markdown",
   "metadata": {},
   "source": [
    "This is interesting! \n",
    "\n",
    "From an utilization perspective, the manufacturer would probably want to fix/maintain/service machine 2 and machine 3 the most because they are the highest ultilized machines of all in the shop.\n",
    "\n",
    "However, when it comes to performance, machine 16 and machine 8 need to be focused on the most because they tend to have a longer downtime whenever a failure happens."
   ]
  },
  {
   "cell_type": "markdown",
   "metadata": {},
   "source": [
    "## Shift variable vs total failures/downtime\n",
    "\n",
    "#### 1. What shift is associated with the most amout of total failures/downtime?"
   ]
  },
  {
   "cell_type": "code",
   "execution_count": null,
   "metadata": {},
   "outputs": [],
   "source": [
    "# inspect shift proportion\n",
    "shift_proportion= combined_df.groupby('Shift')['Shift'].count()/len(combined_df)*100\n",
    "\n",
    "shift_proportion"
   ]
  },
  {
   "cell_type": "markdown",
   "metadata": {},
   "source": [
    "The number of shifts were well distributed between shift A and shift B with shift A accounted for 51% of the total number of shifts, and shift B accounted for 49%, respectively."
   ]
  },
  {
   "cell_type": "code",
   "execution_count": null,
   "metadata": {},
   "outputs": [],
   "source": [
    "# plot the relationship between shift and total failures/downtime\n",
    "combined_df.groupby('Shift')['Total Failures', 'Total Downtime hr'].sum().plot(kind='bar',\n",
    "                                                                               title = 'Shift vs Total Failures/Downtime')"
   ]
  },
  {
   "cell_type": "markdown",
   "metadata": {},
   "source": [
    "According to the barchart above, even though shift A and shift B accounted for similar amount of total downtime (around 120 total hrs), the number of failures that happened on Shift A was remarkably higher than the number of failures that happened on Shift B. \n",
    "\n",
    "Could this be because shift A ultilizes more machines that have a higher number of failures but shorter downtimes?"
   ]
  },
  {
   "cell_type": "markdown",
   "metadata": {},
   "source": [
    "#### 2. How different shifts ultilize different machines?"
   ]
  },
  {
   "cell_type": "code",
   "execution_count": null,
   "metadata": {},
   "outputs": [],
   "source": [
    "# create shift_machine df that contains shift and machine ultilization info\n",
    "shift_machine = combined_df[['Shift', 'Machine']]\n",
    "\n",
    "# inspect what machines were used in each shift\n",
    "df = shift_machine.groupby(['Shift', 'Machine'])['Machine'].count()\n",
    "print(df)"
   ]
  },
  {
   "cell_type": "code",
   "execution_count": null,
   "metadata": {},
   "outputs": [],
   "source": [
    "# calculate machine ultilization between shift A and shift B\n",
    "shift_machine[shift_machine['Shift'] == 'A'].groupby(['Machine'])['Machine'].count() - shift_machine[shift_machine['Shift'] == 'B'].groupby(['Machine'])['Machine'].count()"
   ]
  },
  {
   "cell_type": "markdown",
   "metadata": {},
   "source": [
    "Shift A ultilized machine 1, 5, 6, 9, 12, 17 more often than shift B. Notice in the previous section, machine 1, 5, and 6 are ones that have higher number of total failures.\n",
    "\n",
    "Shift B, on the other hand, ultilized machine 4, 7, 11, 13 and 15 more often than shift A. These are machines that have a shorter average downtime per failure."
   ]
  },
  {
   "cell_type": "markdown",
   "metadata": {},
   "source": [
    "## Operator variable vs total failures/downtime\n",
    "\n",
    "#### 1. What operators were associated with the highest number of failure/downtime?"
   ]
  },
  {
   "cell_type": "code",
   "execution_count": null,
   "metadata": {},
   "outputs": [],
   "source": [
    "# Which operators worked the highest amount of shifts?\n",
    "combined_df.groupby('Operator Name')['Shift'].count().sort_values(ascending = False).head()"
   ]
  },
  {
   "cell_type": "code",
   "execution_count": null,
   "metadata": {},
   "outputs": [],
   "source": [
    "# plot barchart showing the number of total failures and downtime per each operator\n",
    "combined_df.groupby('Operator Name')[['Total Failures', 'Total Downtime hr']].sum().plot(kind='bar',\n",
    "                                                                                         title = 'Operator vs Total failiures/downtime')"
   ]
  },
  {
   "cell_type": "markdown",
   "metadata": {},
   "source": [
    "According to the barchart above, even though Hess_H and Courtney_H contributed to the highest number of failures within the dataset, it is Marcel_C and Harlan_B that had the longest total downtime.\n",
    "\n",
    "Let's take a closer look at the data!"
   ]
  },
  {
   "cell_type": "markdown",
   "metadata": {},
   "source": [
    "#### 2. Do machines play a role in operator performance?"
   ]
  },
  {
   "cell_type": "code",
   "execution_count": null,
   "metadata": {},
   "outputs": [],
   "source": [
    "# let's take a look at operators with the highest number of failures\n",
    "combined_df.groupby('Operator Name')[['Total Failures', 'Total Downtime']].sum().sort_values(by = 'Total Failures', ascending = False).head()"
   ]
  },
  {
   "cell_type": "code",
   "execution_count": null,
   "metadata": {},
   "outputs": [],
   "source": [
    "# operators with the highest number of downtime\n",
    "combined_df.groupby('Operator Name')[['Total Failures', 'Total Downtime']].sum().sort_values(by = 'Total Downtime', ascending = False).head()"
   ]
  },
  {
   "cell_type": "code",
   "execution_count": null,
   "metadata": {},
   "outputs": [],
   "source": [
    "# inspect only operators of interest\n",
    "operators = ['Hess_H', 'Courtney_H', 'Marcel_C', 'Harlan_B']\n",
    "\n",
    "operator_machine = combined_df[combined_df['Operator Name'].isin(operators)] \n",
    "\n",
    "operator_machine = operator_machine.groupby(['Operator Name', 'Machine'])[['Total Failures', 'Total Downtime']].sum()\n",
    "operator_machine"
   ]
  },
  {
   "cell_type": "markdown",
   "metadata": {},
   "source": [
    "It looks like Hess_H only operated machine 2. If you remember from the analysis earlier in the machine section, machine 2 was the highest ultilized machine and had the highest number of failures. However, it had a smaller downtime/failure rate. That explains why even though Hess_H had the highest number of failures across the time series, the total amount of downtime during his/her shifts was not as high as others.\n",
    "\n",
    "Harlan_B was assigned to machine 8, which not only failed more often, but also had a higher rate of downtime/failure. \n",
    "\n",
    "Courtney_H and Marcel_C both operated multiple machines. Courtney_H's high failure rate was mainly due to machine 1 and machine 6. These two machines, however, had shorter average downtime per each failure, similar to Hess_H situation. \n",
    "\n",
    "Marcel_C operated on 4 different machines, but used machine 8 the most out of others. As explained above, machine 8 had one of the biggest downtime/failure rates."
   ]
  },
  {
   "cell_type": "markdown",
   "metadata": {},
   "source": [
    "#### 3. If every minute of Cable Failure Downtime represents eight dollars of lost revenue and Other Failure Downtime represents five dollars then which Machines or Operators are responsible for the most lost revenue?"
   ]
  },
  {
   "cell_type": "code",
   "execution_count": null,
   "metadata": {},
   "outputs": [],
   "source": [
    "# create revenue by machine df and calculate lost revenue\n",
    "rev_by_machine = combined_df[['Machine', 'Cable Failure Downtime', 'Other Failure Downtime']]\n",
    "\n",
    "rev_by_machine['Lost Revenue'] = (combined_df['Cable Failure Downtime'] * 8) + (combined_df['Other Failure Downtime'] * 5)\n",
    "\n",
    "rev_by_machine.head()"
   ]
  },
  {
   "cell_type": "code",
   "execution_count": null,
   "metadata": {},
   "outputs": [],
   "source": [
    "# machines associated with the most amount of lost revenue \n",
    "rev_by_machine.groupby('Machine')['Lost Revenue'].sum().sort_values(ascending = False).head(2)"
   ]
  },
  {
   "cell_type": "code",
   "execution_count": null,
   "metadata": {},
   "outputs": [],
   "source": [
    "# create revenue by operator df and calculate lost revenue\n",
    "rev_by_operator = combined_df[['Operator Name', 'Cable Failure Downtime', 'Other Failure Downtime']]\n",
    "\n",
    "rev_by_operator['Lost Revenue'] = (combined_df['Cable Failure Downtime'] * 8) + (combined_df['Other Failure Downtime'] * 5)\n",
    "\n",
    "rev_by_operator.head()"
   ]
  },
  {
   "cell_type": "code",
   "execution_count": null,
   "metadata": {},
   "outputs": [],
   "source": [
    "# operator associated with the most amount of lost revenue \n",
    "rev_by_operator.groupby('Operator Name')['Lost Revenue'].sum().sort_values(ascending = False).head(2)"
   ]
  },
  {
   "cell_type": "markdown",
   "metadata": {},
   "source": [
    "## Variable correlation"
   ]
  },
  {
   "cell_type": "code",
   "execution_count": null,
   "metadata": {},
   "outputs": [],
   "source": [
    "combined_df.head()"
   ]
  },
  {
   "cell_type": "code",
   "execution_count": null,
   "metadata": {},
   "outputs": [],
   "source": [
    "# we will inspect correlation between machine, shift, operator, total failures and total downtime variables\n",
    "# before doing so, we'll have to encode categorical variables\n",
    "\n",
    "shift_mapping = {k: i for i, k in enumerate(combined_df['Shift'].unique(), 0)}\n",
    "print(shift_mapping)\n",
    "\n",
    "# create a copy oc combined_df and save it to corr_df\n",
    "corr_df = combined_df.copy()\n",
    "\n",
    "# map new values to shift\n",
    "corr_df['Shift'] = combined_df['Shift'].map(shift_mapping)\n",
    "\n",
    "print(corr_df['Shift'].unique())"
   ]
  },
  {
   "cell_type": "code",
   "execution_count": null,
   "metadata": {},
   "outputs": [],
   "source": [
    "# calculate correlation for variables of interest\n",
    "cols = ['Machine', 'Shift', 'Cable Failures', 'Cable Failure Downtime', 'Other Failures', 'Other Failure Downtime', 'Operator Number', 'Total Failures', 'Total Downtime']\n",
    "\n",
    "corr = corr_df[cols].corr()\n",
    "\n",
    "# plot correlation heatmap\n",
    "sns.heatmap(corr, \n",
    "            annot=True, \n",
    "            linewidths=.5,\n",
    "            square = True)"
   ]
  },
  {
   "cell_type": "markdown",
   "metadata": {},
   "source": [
    "Okay, let's take a look at the above map representing the correlation coefficients between different variables in the dataset.\n",
    "\n",
    "The correlation coefficient is a statistical measure of the strength of the relationship between the relative movements of two variables. A correlation of -1.0 shows a perfect negative correlation, while a correlation of 1.0 shows a perfect positive correlation. A correlation of 0.0 shows no linear relationship between the movement of the two variables.\n",
    "\n",
    "We can see that Total Downtime and Other Failure Downtime are highly correlated. This is expected because Other Failure Downtime directly contributed to Total Downtime. But notice how Cable Failure Downtime has a much lower correlation coefficient than that of Other Failure Downtime even though it is also a part of the equation? Does that mean it's not as good of an indicator?\n",
    "\n",
    "Same situation happened with Total Failures, Cable Failures and Other Failures variable\n",
    "\n",
    "Another good one is Operator Number and Machine. It looks like these 2 variables also have a higher correlation coefficient. As we discovered earlier, some operators only operated on a single machine, or the same machines throughout the time that the data was recorded, whether because they were assigned to or in charge of only one machine or a set of machines, or because we don't have enough data from other weeks that they worked on other machines."
   ]
  },
  {
   "cell_type": "markdown",
   "metadata": {},
   "source": [
    "# End"
   ]
  }
 ],
 "metadata": {
  "kernelspec": {
   "display_name": "Python 3",
   "language": "python",
   "name": "python3"
  },
  "language_info": {
   "codemirror_mode": {
    "name": "ipython",
    "version": 3
   },
   "file_extension": ".py",
   "mimetype": "text/x-python",
   "name": "python",
   "nbconvert_exporter": "python",
   "pygments_lexer": "ipython3",
   "version": "3.8.3"
  }
 },
 "nbformat": 4,
 "nbformat_minor": 5
}
