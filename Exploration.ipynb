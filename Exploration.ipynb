{
 "cells": [
  {
   "cell_type": "markdown",
   "metadata": {
    "tags": []
   },
   "source": [
    "# Exploration\n",
    "Complete EDA.ipynb first!\n",
    "\n",
    "This notebook is a starting point for your own exploration of the data and should build upon your work and knowledge gained from EDA.ipynb. As a reminder, the goal is to identify the primary source(s) of failures and downtimes and, if possible, to assess the certainty of those conclusions.\n",
    "\n",
    "Some questions you could explore are:\n",
    "- Which Machines are responsible for 80% of overall Total Failures? Of overall Total Failure Downtime?\n",
    "- Are there significant differences in the performances of Machines, Shifts, or Operators?\n",
    "- If every minute of Cable Failure Downtime represents eight dollars of lost revenue and Other Failure Downtime represents five dollars then which Machines or Operators are responsible for the most lost revenue? "
   ]
  },
  {
   "cell_type": "code",
   "execution_count": 1,
   "metadata": {},
   "outputs": [],
   "source": [
    "# import libraries\n",
    "import pandas as pd\n",
    "import numpy as np\n",
    "\n",
    "import os\n",
    "\n",
    "from scipy.stats import ttest_ind\n",
    "\n",
    "from sklearn.preprocessing import LabelEncoder, StandardScaler\n",
    "from sklearn.pipeline import Pipeline\n",
    "from sklearn.tree import ExtraTreeRegressor\n",
    "\n",
    "import warnings\n",
    "warnings.filterwarnings('ignore')\n",
    "\n",
    "import matplotlib.pyplot as plt\n",
    "import seaborn as sns\n",
    "\n",
    "# a simple theme that's better than the default\n",
    "sns.set_theme(\n",
    "    context='notebook',\n",
    "    style='darkgrid', \n",
    "    palette='husl',\n",
    "    rc={\"figure.figsize\":(24, 8)}\n",
    ")\n",
    "\n",
    "# set pandas display option\n",
    "pd.set_option('display.max_columns', None)\n",
    "pd.set_option('display.max_rows', None)"
   ]
  },
  {
   "cell_type": "code",
   "execution_count": 2,
   "metadata": {},
   "outputs": [],
   "source": [
    "# function to load & process operator_file\n",
    "def get_operator_names(operator_file: str)->pd.DataFrame:\n",
    "   \n",
    "    \"\"\"\n",
    "    Load & process the contents of a file containing operator details.\n",
    "    \n",
    "    Params:\n",
    "    operator_file - str; the path to the operator file.\n",
    "    \n",
    "    Returns:\n",
    "    operator_df - pd.DataFrame; the extracted content of the operator file. The\n",
    "    columns should include Operator Number, First Name, & Last Initial.\n",
    "    \"\"\"\n",
    "    \n",
    "    assert isinstance(operator_file, str), 'operator_file is not of type str.'\n",
    "    \n",
    "    # create a list of columns for reference\n",
    "    columns = ['Operator Number', 'First Name', 'Last Initial']\n",
    "    \n",
    "    # load operator file\n",
    "    operator = pd.read_csv(operator_file,\n",
    "                           sep=r',', \n",
    "                           header = None,\n",
    "                           names = columns,\n",
    "                           delim_whitespace=True)\n",
    "    \n",
    "    # extract initial from last name\n",
    "    operator['Last Initial'] = operator['Last Initial'].astype(str).str[0]\n",
    "    \n",
    "    # create an empty df to fill with contents of operator_file\n",
    "    operator_df = pd.DataFrame(operator)\n",
    "    \n",
    "    return operator_df"
   ]
  },
  {
   "cell_type": "code",
   "execution_count": 3,
   "metadata": {},
   "outputs": [],
   "source": [
    "# function to load and combine copper_file with operator_file\n",
    "def load_combine(copper_file: str, operator_file: str)->pd.DataFrame:\n",
    "    \n",
    "    \"\"\"\n",
    "    Load, process & combine the contents of the copper_file and operator_df.\n",
    "    \n",
    "    Params:\n",
    "    copper_file - str; the path to the copper file.\n",
    "    operator_file - str; the path to the operator file.\n",
    "    \n",
    "    Returns:\n",
    "    combined_df - pd.DataFrame; the extracted and combined content of the \n",
    "        two files. There should be 10 columns available after combining the\n",
    "        two files and dropping any unecessary columns.   \n",
    "    \"\"\"\n",
    "    \n",
    "    assert isinstance(operator_file, str), 'operator_file path is not of type str.'\n",
    "    assert isinstance(copper_file, str), 'copper_file path is not of type str.'\n",
    "    \n",
    "    # Store columns to reference in a list\n",
    "    combination = ['Machine', 'Shift', 'Operator', 'Date']\n",
    "    aggregation = ['Cable Failures', 'Cable Failure Downtime', 'Other Failures', 'Other Failure Downtime']\n",
    "    \n",
    "    # find absolute path to files\n",
    "    abs_path_copper = os.path.abspath(copper_file)\n",
    "    abs_path_operator = os.path.abspath(operator_file)\n",
    "    \n",
    "    # load and remove duplicates on copper_file\n",
    "    copper_df = pd.read_excel(abs_path_copper, index_col = 0)\n",
    "    \n",
    "    # drop exact duplicates\n",
    "    copper_df = copper_df.drop_duplicates()\n",
    "    \n",
    "    # create a new data frame that stores and aggregate duplicate \n",
    "    # records per Machine-Shift-Operator-Date combination\n",
    "    dup_rows = copper_df.copy()\n",
    "    \n",
    "    dup_rows = dup_rows[dup_rows.duplicated(subset = combination, keep = False)]\n",
    "    dup_rows = pd.DataFrame(dup_rows.groupby(combination)[aggregation].sum())\n",
    "    dup_rows.reset_index(inplace = True)\n",
    "    \n",
    "    # drop duplicates within the column combination from copper_df\n",
    "    # and concatenate dup_rows and copper_df\n",
    "    \n",
    "    copper_df = copper_df.drop_duplicates(subset = combination, keep = False)\n",
    "\n",
    "    concat_dfs = [copper_df, dup_rows]\n",
    "    \n",
    "    copper_df = pd.concat(concat_dfs).reset_index(drop = True)\n",
    "    \n",
    "    print('There are {} rows in copper_file after dropping duplicates'.format(copper_df.shape[0]))\n",
    "    print('')\n",
    "    \n",
    "    # load and pre-process operator_file\n",
    "    \n",
    "    operator_df = get_operator_names(abs_path_operator)\n",
    "\n",
    "    # merge copper_df with operator_df using on 'Operator' = 'Operator Number'\n",
    "    combined_df = copper_df.merge(operator_df, \n",
    "                                  how='left', \n",
    "                                  left_on='Operator', \n",
    "                                  right_on='Operator Number')\n",
    "\n",
    "    # drop duplicated column & inspect the new combined table\n",
    "    combined_df.drop('Operator', axis=1, inplace=True)\n",
    "    \n",
    "    combined_df = pd.DataFrame(combined_df)\n",
    "    \n",
    "    return combined_df"
   ]
  },
  {
   "cell_type": "code",
   "execution_count": 4,
   "metadata": {},
   "outputs": [],
   "source": [
    "# function to feature engineer data frame\n",
    "def feature_engineer(df: pd.DataFrame)->pd.DataFrame:\n",
    "   \n",
    "    \"\"\"\n",
    "    Engineer new features for the combined_df data frame.\n",
    "    \n",
    "    Params:\n",
    "    df - DataFrame; the data frame used to add new features.\n",
    "    \n",
    "    Returns:\n",
    "    combined_df - pd.DataFrame; a new data frame with newly created features.\n",
    "        These features include 'Operator Name', Day of Week', 'Total Failure', 'Total Downtime', \n",
    "        and 'Total Failure Downtime'. A total of 13 features will be returned.\n",
    "    \"\"\"\n",
    "    \n",
    "    assert isinstance(df, pd.DataFrame), 'df is not a DataFrame.'\n",
    "    \n",
    "    cols = ['First Name', 'Last Initial']\n",
    "    \n",
    "    # create new features   \n",
    "    df['Operator Name'] = df['First Name'] + '_' + df['Last Initial']\n",
    "    df['Day of Week'] = df['Date'].dt.day_name()\n",
    "    df['Total Failures'] = df['Cable Failures'] + df['Other Failures']\n",
    "    df['Total Downtime min'] = df['Cable Failure Downtime'] + df['Other Failure Downtime']\n",
    "    df['Total Downtime hr'] = round(df['Total Downtime min']/60, 2)\n",
    "    \n",
    "    # create an empty combined_df and fill with content with df\n",
    "    combined_df = pd.DataFrame(df)\n",
    "    \n",
    "    combined_df.drop(cols, axis=1, inplace=True)\n",
    "    \n",
    "    return combined_df"
   ]
  },
  {
   "cell_type": "code",
   "execution_count": 5,
   "metadata": {},
   "outputs": [
    {
     "name": "stdout",
     "output_type": "stream",
     "text": [
      "There are 145 rows in copper_file after dropping duplicates\n",
      "\n"
     ]
    },
    {
     "data": {
      "text/html": [
       "<div>\n",
       "<style scoped>\n",
       "    .dataframe tbody tr th:only-of-type {\n",
       "        vertical-align: middle;\n",
       "    }\n",
       "\n",
       "    .dataframe tbody tr th {\n",
       "        vertical-align: top;\n",
       "    }\n",
       "\n",
       "    .dataframe thead th {\n",
       "        text-align: right;\n",
       "    }\n",
       "</style>\n",
       "<table border=\"1\" class=\"dataframe\">\n",
       "  <thead>\n",
       "    <tr style=\"text-align: right;\">\n",
       "      <th></th>\n",
       "      <th>Machine</th>\n",
       "      <th>Shift</th>\n",
       "      <th>Date</th>\n",
       "      <th>Cable Failures</th>\n",
       "      <th>Cable Failure Downtime</th>\n",
       "      <th>Other Failures</th>\n",
       "      <th>Other Failure Downtime</th>\n",
       "      <th>Operator Number</th>\n",
       "      <th>First Name</th>\n",
       "      <th>Last Initial</th>\n",
       "    </tr>\n",
       "  </thead>\n",
       "  <tbody>\n",
       "    <tr>\n",
       "      <th>0</th>\n",
       "      <td>6</td>\n",
       "      <td>A</td>\n",
       "      <td>2020-11-15</td>\n",
       "      <td>0</td>\n",
       "      <td>0</td>\n",
       "      <td>1</td>\n",
       "      <td>60</td>\n",
       "      <td>12</td>\n",
       "      <td>Tad</td>\n",
       "      <td>S</td>\n",
       "    </tr>\n",
       "    <tr>\n",
       "      <th>1</th>\n",
       "      <td>6</td>\n",
       "      <td>B</td>\n",
       "      <td>2020-11-10</td>\n",
       "      <td>0</td>\n",
       "      <td>0</td>\n",
       "      <td>0</td>\n",
       "      <td>0</td>\n",
       "      <td>12</td>\n",
       "      <td>Tad</td>\n",
       "      <td>S</td>\n",
       "    </tr>\n",
       "    <tr>\n",
       "      <th>2</th>\n",
       "      <td>2</td>\n",
       "      <td>A</td>\n",
       "      <td>2020-11-06</td>\n",
       "      <td>1</td>\n",
       "      <td>10</td>\n",
       "      <td>3</td>\n",
       "      <td>150</td>\n",
       "      <td>2</td>\n",
       "      <td>Hugh</td>\n",
       "      <td>R</td>\n",
       "    </tr>\n",
       "    <tr>\n",
       "      <th>3</th>\n",
       "      <td>8</td>\n",
       "      <td>B</td>\n",
       "      <td>2020-11-16</td>\n",
       "      <td>3</td>\n",
       "      <td>175</td>\n",
       "      <td>0</td>\n",
       "      <td>0</td>\n",
       "      <td>13</td>\n",
       "      <td>Marcel</td>\n",
       "      <td>C</td>\n",
       "    </tr>\n",
       "    <tr>\n",
       "      <th>4</th>\n",
       "      <td>2</td>\n",
       "      <td>B</td>\n",
       "      <td>2020-11-09</td>\n",
       "      <td>0</td>\n",
       "      <td>0</td>\n",
       "      <td>1</td>\n",
       "      <td>20</td>\n",
       "      <td>1</td>\n",
       "      <td>Courtney</td>\n",
       "      <td>H</td>\n",
       "    </tr>\n",
       "  </tbody>\n",
       "</table>\n",
       "</div>"
      ],
      "text/plain": [
       "   Machine Shift       Date  Cable Failures  Cable Failure Downtime  \\\n",
       "0        6     A 2020-11-15               0                       0   \n",
       "1        6     B 2020-11-10               0                       0   \n",
       "2        2     A 2020-11-06               1                      10   \n",
       "3        8     B 2020-11-16               3                     175   \n",
       "4        2     B 2020-11-09               0                       0   \n",
       "\n",
       "   Other Failures  Other Failure Downtime  Operator Number First Name  \\\n",
       "0               1                      60               12        Tad   \n",
       "1               0                       0               12        Tad   \n",
       "2               3                     150                2       Hugh   \n",
       "3               0                       0               13     Marcel   \n",
       "4               1                      20                1   Courtney   \n",
       "\n",
       "  Last Initial  \n",
       "0            S  \n",
       "1            S  \n",
       "2            R  \n",
       "3            C  \n",
       "4            H  "
      ]
     },
     "execution_count": 5,
     "metadata": {},
     "output_type": "execute_result"
    }
   ],
   "source": [
    "# get the paths of the 2 files\n",
    "copper_file = 'data/copper_production_v1.xlsx'\n",
    "operator_file = 'data/operator_names.txt'\n",
    "\n",
    "# combine 2 files using pre-defined function and print out the first 5 rows\n",
    "df = load_combine(copper_file, operator_file)\n",
    "df.head()"
   ]
  },
  {
   "cell_type": "code",
   "execution_count": 6,
   "metadata": {},
   "outputs": [
    {
     "data": {
      "text/html": [
       "<div>\n",
       "<style scoped>\n",
       "    .dataframe tbody tr th:only-of-type {\n",
       "        vertical-align: middle;\n",
       "    }\n",
       "\n",
       "    .dataframe tbody tr th {\n",
       "        vertical-align: top;\n",
       "    }\n",
       "\n",
       "    .dataframe thead th {\n",
       "        text-align: right;\n",
       "    }\n",
       "</style>\n",
       "<table border=\"1\" class=\"dataframe\">\n",
       "  <thead>\n",
       "    <tr style=\"text-align: right;\">\n",
       "      <th></th>\n",
       "      <th>Machine</th>\n",
       "      <th>Shift</th>\n",
       "      <th>Date</th>\n",
       "      <th>Cable Failures</th>\n",
       "      <th>Cable Failure Downtime</th>\n",
       "      <th>Other Failures</th>\n",
       "      <th>Other Failure Downtime</th>\n",
       "      <th>Operator Number</th>\n",
       "      <th>Operator Name</th>\n",
       "      <th>Day of Week</th>\n",
       "      <th>Total Failures</th>\n",
       "      <th>Total Downtime min</th>\n",
       "      <th>Total Downtime hr</th>\n",
       "    </tr>\n",
       "  </thead>\n",
       "  <tbody>\n",
       "    <tr>\n",
       "      <th>0</th>\n",
       "      <td>6</td>\n",
       "      <td>A</td>\n",
       "      <td>2020-11-15</td>\n",
       "      <td>0</td>\n",
       "      <td>0</td>\n",
       "      <td>1</td>\n",
       "      <td>60</td>\n",
       "      <td>12</td>\n",
       "      <td>Tad_S</td>\n",
       "      <td>Sunday</td>\n",
       "      <td>1</td>\n",
       "      <td>60</td>\n",
       "      <td>1.00</td>\n",
       "    </tr>\n",
       "    <tr>\n",
       "      <th>1</th>\n",
       "      <td>6</td>\n",
       "      <td>B</td>\n",
       "      <td>2020-11-10</td>\n",
       "      <td>0</td>\n",
       "      <td>0</td>\n",
       "      <td>0</td>\n",
       "      <td>0</td>\n",
       "      <td>12</td>\n",
       "      <td>Tad_S</td>\n",
       "      <td>Tuesday</td>\n",
       "      <td>0</td>\n",
       "      <td>0</td>\n",
       "      <td>0.00</td>\n",
       "    </tr>\n",
       "    <tr>\n",
       "      <th>2</th>\n",
       "      <td>2</td>\n",
       "      <td>A</td>\n",
       "      <td>2020-11-06</td>\n",
       "      <td>1</td>\n",
       "      <td>10</td>\n",
       "      <td>3</td>\n",
       "      <td>150</td>\n",
       "      <td>2</td>\n",
       "      <td>Hugh_R</td>\n",
       "      <td>Friday</td>\n",
       "      <td>4</td>\n",
       "      <td>160</td>\n",
       "      <td>2.67</td>\n",
       "    </tr>\n",
       "    <tr>\n",
       "      <th>3</th>\n",
       "      <td>8</td>\n",
       "      <td>B</td>\n",
       "      <td>2020-11-16</td>\n",
       "      <td>3</td>\n",
       "      <td>175</td>\n",
       "      <td>0</td>\n",
       "      <td>0</td>\n",
       "      <td>13</td>\n",
       "      <td>Marcel_C</td>\n",
       "      <td>Monday</td>\n",
       "      <td>3</td>\n",
       "      <td>175</td>\n",
       "      <td>2.92</td>\n",
       "    </tr>\n",
       "    <tr>\n",
       "      <th>4</th>\n",
       "      <td>2</td>\n",
       "      <td>B</td>\n",
       "      <td>2020-11-09</td>\n",
       "      <td>0</td>\n",
       "      <td>0</td>\n",
       "      <td>1</td>\n",
       "      <td>20</td>\n",
       "      <td>1</td>\n",
       "      <td>Courtney_H</td>\n",
       "      <td>Monday</td>\n",
       "      <td>1</td>\n",
       "      <td>20</td>\n",
       "      <td>0.33</td>\n",
       "    </tr>\n",
       "  </tbody>\n",
       "</table>\n",
       "</div>"
      ],
      "text/plain": [
       "   Machine Shift       Date  Cable Failures  Cable Failure Downtime  \\\n",
       "0        6     A 2020-11-15               0                       0   \n",
       "1        6     B 2020-11-10               0                       0   \n",
       "2        2     A 2020-11-06               1                      10   \n",
       "3        8     B 2020-11-16               3                     175   \n",
       "4        2     B 2020-11-09               0                       0   \n",
       "\n",
       "   Other Failures  Other Failure Downtime  Operator Number Operator Name  \\\n",
       "0               1                      60               12         Tad_S   \n",
       "1               0                       0               12         Tad_S   \n",
       "2               3                     150                2        Hugh_R   \n",
       "3               0                       0               13      Marcel_C   \n",
       "4               1                      20                1    Courtney_H   \n",
       "\n",
       "  Day of Week  Total Failures  Total Downtime min  Total Downtime hr  \n",
       "0      Sunday               1                  60               1.00  \n",
       "1     Tuesday               0                   0               0.00  \n",
       "2      Friday               4                 160               2.67  \n",
       "3      Monday               3                 175               2.92  \n",
       "4      Monday               1                  20               0.33  "
      ]
     },
     "execution_count": 6,
     "metadata": {},
     "output_type": "execute_result"
    }
   ],
   "source": [
    "# feature engineer df dataframe using pre-defined function and print out first 5 rows\n",
    "combined_df = feature_engineer(df)\n",
    "\n",
    "combined_df.head()"
   ]
  },
  {
   "cell_type": "code",
   "execution_count": 7,
   "metadata": {},
   "outputs": [
    {
     "name": "stdout",
     "output_type": "stream",
     "text": [
      "<class 'pandas.core.frame.DataFrame'>\n",
      "Int64Index: 145 entries, 0 to 144\n",
      "Data columns (total 13 columns):\n",
      " #   Column                  Non-Null Count  Dtype         \n",
      "---  ------                  --------------  -----         \n",
      " 0   Machine                 145 non-null    int64         \n",
      " 1   Shift                   145 non-null    object        \n",
      " 2   Date                    145 non-null    datetime64[ns]\n",
      " 3   Cable Failures          145 non-null    int64         \n",
      " 4   Cable Failure Downtime  145 non-null    int64         \n",
      " 5   Other Failures          145 non-null    int64         \n",
      " 6   Other Failure Downtime  145 non-null    int64         \n",
      " 7   Operator Number         145 non-null    int64         \n",
      " 8   Operator Name           145 non-null    object        \n",
      " 9   Day of Week             145 non-null    object        \n",
      " 10  Total Failures          145 non-null    int64         \n",
      " 11  Total Downtime min      145 non-null    int64         \n",
      " 12  Total Downtime hr       145 non-null    float64       \n",
      "dtypes: datetime64[ns](1), float64(1), int64(8), object(3)\n",
      "memory usage: 15.9+ KB\n"
     ]
    }
   ],
   "source": [
    "# inspect column datatype and check columns with missing values\n",
    "combined_df.info()"
   ]
  },
  {
   "cell_type": "code",
   "execution_count": 8,
   "metadata": {},
   "outputs": [
    {
     "data": {
      "text/html": [
       "<div>\n",
       "<style scoped>\n",
       "    .dataframe tbody tr th:only-of-type {\n",
       "        vertical-align: middle;\n",
       "    }\n",
       "\n",
       "    .dataframe tbody tr th {\n",
       "        vertical-align: top;\n",
       "    }\n",
       "\n",
       "    .dataframe thead th {\n",
       "        text-align: right;\n",
       "    }\n",
       "</style>\n",
       "<table border=\"1\" class=\"dataframe\">\n",
       "  <thead>\n",
       "    <tr style=\"text-align: right;\">\n",
       "      <th></th>\n",
       "      <th>count</th>\n",
       "      <th>mean</th>\n",
       "      <th>std</th>\n",
       "      <th>min</th>\n",
       "      <th>25%</th>\n",
       "      <th>50%</th>\n",
       "      <th>75%</th>\n",
       "      <th>max</th>\n",
       "    </tr>\n",
       "  </thead>\n",
       "  <tbody>\n",
       "    <tr>\n",
       "      <th>Machine</th>\n",
       "      <td>145.0</td>\n",
       "      <td>5.910345</td>\n",
       "      <td>4.347600</td>\n",
       "      <td>1.0</td>\n",
       "      <td>2.0</td>\n",
       "      <td>5.0</td>\n",
       "      <td>8.00</td>\n",
       "      <td>17.0</td>\n",
       "    </tr>\n",
       "    <tr>\n",
       "      <th>Cable Failures</th>\n",
       "      <td>145.0</td>\n",
       "      <td>1.448276</td>\n",
       "      <td>1.353653</td>\n",
       "      <td>0.0</td>\n",
       "      <td>0.0</td>\n",
       "      <td>1.0</td>\n",
       "      <td>2.00</td>\n",
       "      <td>6.0</td>\n",
       "    </tr>\n",
       "    <tr>\n",
       "      <th>Cable Failure Downtime</th>\n",
       "      <td>145.0</td>\n",
       "      <td>52.862069</td>\n",
       "      <td>58.004265</td>\n",
       "      <td>0.0</td>\n",
       "      <td>0.0</td>\n",
       "      <td>35.0</td>\n",
       "      <td>75.00</td>\n",
       "      <td>295.0</td>\n",
       "    </tr>\n",
       "    <tr>\n",
       "      <th>Other Failures</th>\n",
       "      <td>145.0</td>\n",
       "      <td>0.551724</td>\n",
       "      <td>0.985527</td>\n",
       "      <td>0.0</td>\n",
       "      <td>0.0</td>\n",
       "      <td>0.0</td>\n",
       "      <td>1.00</td>\n",
       "      <td>9.0</td>\n",
       "    </tr>\n",
       "    <tr>\n",
       "      <th>Other Failure Downtime</th>\n",
       "      <td>145.0</td>\n",
       "      <td>48.344828</td>\n",
       "      <td>108.240433</td>\n",
       "      <td>0.0</td>\n",
       "      <td>0.0</td>\n",
       "      <td>0.0</td>\n",
       "      <td>45.00</td>\n",
       "      <td>690.0</td>\n",
       "    </tr>\n",
       "    <tr>\n",
       "      <th>Operator Number</th>\n",
       "      <td>145.0</td>\n",
       "      <td>12.993103</td>\n",
       "      <td>8.765856</td>\n",
       "      <td>1.0</td>\n",
       "      <td>6.0</td>\n",
       "      <td>12.0</td>\n",
       "      <td>19.00</td>\n",
       "      <td>32.0</td>\n",
       "    </tr>\n",
       "    <tr>\n",
       "      <th>Total Failures</th>\n",
       "      <td>145.0</td>\n",
       "      <td>2.000000</td>\n",
       "      <td>1.448179</td>\n",
       "      <td>0.0</td>\n",
       "      <td>1.0</td>\n",
       "      <td>1.0</td>\n",
       "      <td>3.00</td>\n",
       "      <td>9.0</td>\n",
       "    </tr>\n",
       "    <tr>\n",
       "      <th>Total Downtime min</th>\n",
       "      <td>145.0</td>\n",
       "      <td>101.206897</td>\n",
       "      <td>114.008826</td>\n",
       "      <td>0.0</td>\n",
       "      <td>30.0</td>\n",
       "      <td>60.0</td>\n",
       "      <td>130.00</td>\n",
       "      <td>690.0</td>\n",
       "    </tr>\n",
       "    <tr>\n",
       "      <th>Total Downtime hr</th>\n",
       "      <td>145.0</td>\n",
       "      <td>1.686966</td>\n",
       "      <td>1.900316</td>\n",
       "      <td>0.0</td>\n",
       "      <td>0.5</td>\n",
       "      <td>1.0</td>\n",
       "      <td>2.17</td>\n",
       "      <td>11.5</td>\n",
       "    </tr>\n",
       "  </tbody>\n",
       "</table>\n",
       "</div>"
      ],
      "text/plain": [
       "                        count        mean         std  min   25%   50%  \\\n",
       "Machine                 145.0    5.910345    4.347600  1.0   2.0   5.0   \n",
       "Cable Failures          145.0    1.448276    1.353653  0.0   0.0   1.0   \n",
       "Cable Failure Downtime  145.0   52.862069   58.004265  0.0   0.0  35.0   \n",
       "Other Failures          145.0    0.551724    0.985527  0.0   0.0   0.0   \n",
       "Other Failure Downtime  145.0   48.344828  108.240433  0.0   0.0   0.0   \n",
       "Operator Number         145.0   12.993103    8.765856  1.0   6.0  12.0   \n",
       "Total Failures          145.0    2.000000    1.448179  0.0   1.0   1.0   \n",
       "Total Downtime min      145.0  101.206897  114.008826  0.0  30.0  60.0   \n",
       "Total Downtime hr       145.0    1.686966    1.900316  0.0   0.5   1.0   \n",
       "\n",
       "                           75%    max  \n",
       "Machine                   8.00   17.0  \n",
       "Cable Failures            2.00    6.0  \n",
       "Cable Failure Downtime   75.00  295.0  \n",
       "Other Failures            1.00    9.0  \n",
       "Other Failure Downtime   45.00  690.0  \n",
       "Operator Number          19.00   32.0  \n",
       "Total Failures            3.00    9.0  \n",
       "Total Downtime min      130.00  690.0  \n",
       "Total Downtime hr         2.17   11.5  "
      ]
     },
     "execution_count": 8,
     "metadata": {},
     "output_type": "execute_result"
    }
   ],
   "source": [
    "# combined_df simple statistics on numeric variables\n",
    "combined_df.describe().T"
   ]
  },
  {
   "cell_type": "code",
   "execution_count": 9,
   "metadata": {},
   "outputs": [
    {
     "name": "stdout",
     "output_type": "stream",
     "text": [
      "['A' 'B']\n",
      "\n",
      "['Archy_B' 'Bennett_W' 'Byron_B' 'Christopher_G' 'Connie_M' 'Courtney_H'\n",
      " 'David_S' 'Delmer_K' 'Diego_S' 'Dudley_S' 'Elliott_V' 'Eugene_W'\n",
      " 'Floyd_G' 'Francisco_L' 'Fritz_M' 'Gonzalo_J' 'Harlan_B' 'Hess_H'\n",
      " 'Hugh_R' 'Joesph_W' 'Jose_G' 'Lilly_Z' 'Lindsey_F' 'Marcel_C' 'Maurice_O'\n",
      " 'Nichole_H' 'Norris_H' 'Rodney_G' 'Roland_M' 'Tad_S' 'Vince_F'\n",
      " 'Woodrow_S']\n",
      "\n",
      "['Friday' 'Monday' 'Saturday' 'Sunday' 'Thursday' 'Tuesday' 'Wednesday']\n",
      "\n"
     ]
    }
   ],
   "source": [
    "# inspect categorical variables\n",
    "columns = ['Shift', 'Operator Name', 'Day of Week']\n",
    "\n",
    "for col in combined_df[columns].columns:\n",
    "    print(np.sort(combined_df[col].unique()))\n",
    "    print('')"
   ]
  },
  {
   "cell_type": "code",
   "execution_count": 10,
   "metadata": {},
   "outputs": [
    {
     "name": "stdout",
     "output_type": "stream",
     "text": [
      "There are 16 unique dates in the dataset\n",
      "\n",
      "The missing date(s): \n"
     ]
    },
    {
     "data": {
      "text/plain": [
       "DatetimeIndex(['2020-11-11'], dtype='datetime64[ns]', freq=None)"
      ]
     },
     "execution_count": 10,
     "metadata": {},
     "output_type": "execute_result"
    }
   ],
   "source": [
    "# inspect date variable\n",
    "print('There are {} unique dates in the dataset'.format(combined_df['Date'].nunique()))\n",
    "print('')\n",
    "\n",
    "# identify if any dates are missing in the data\n",
    "date_max = combined_df['Date'].max()\n",
    "date_min = combined_df['Date'].min()\n",
    "\n",
    "print('The missing date(s): ')\n",
    "\n",
    "pd.date_range(start = date_min, end = date_max).difference(combined_df['Date'])"
   ]
  },
  {
   "cell_type": "markdown",
   "metadata": {},
   "source": [
    "## Machine variable vs total failures/downtime\n",
    "\n",
    "#### 1. What machine were used the most out of all machines?"
   ]
  },
  {
   "cell_type": "code",
   "execution_count": 11,
   "metadata": {},
   "outputs": [
    {
     "data": {
      "text/plain": [
       "<matplotlib.axes._subplots.AxesSubplot at 0x7fbe3285ea90>"
      ]
     },
     "execution_count": 11,
     "metadata": {},
     "output_type": "execute_result"
    },
    {
     "data": {
      "image/png": "[encoded data removed]",
      "text/plain": [
       "<Figure size 1728x576 with 1 Axes>"
      ]
     },
     "metadata": {},
     "output_type": "display_data"
    }
   ],
   "source": [
    "# create machine_proportion and draw a barchart\n",
    "machine_proportion = combined_df['Machine'].value_counts(normalize = True)\n",
    "\n",
    "machine_proportion.sort_values(ascending=False).plot(kind='bar',\n",
    "                                                     title = 'Machine usage proportion (%)')"
   ]
  },
  {
   "cell_type": "markdown",
   "metadata": {},
   "source": [
    "According to the above bar chart, machine number 2 was used the most out of all other machines (18.6% of total machine usage)"
   ]
  },
  {
   "cell_type": "markdown",
   "metadata": {},
   "source": [
    "#### 2. What machines are responsible for the highest average failures and downtime?"
   ]
  },
  {
   "cell_type": "code",
   "execution_count": 12,
   "metadata": {},
   "outputs": [
    {
     "data": {
      "text/plain": [
       "<matplotlib.axes._subplots.AxesSubplot at 0x7fbe32d14b80>"
      ]
     },
     "execution_count": 12,
     "metadata": {},
     "output_type": "execute_result"
    },
    {
     "data": {
      "image/png": "[encoded data removed]",
      "text/plain": [
       "<Figure size 1728x576 with 1 Axes>"
      ]
     },
     "metadata": {},
     "output_type": "display_data"
    }
   ],
   "source": [
    "# create new dataframe that capture the relationship between machine and total failures/downtime\n",
    "machine_failure_downtime = combined_df.groupby('Machine')['Total Failures', 'Total Downtime hr'].mean()\n",
    "\n",
    "machine_failure_downtime.plot(kind='bar', \n",
    "                              title = 'Average failures and Average downtime per machine')"
   ]
  },
  {
   "cell_type": "code",
   "execution_count": 13,
   "metadata": {},
   "outputs": [
    {
     "data": {
      "text/plain": [
       "Machine\n",
       "2    0.272414\n",
       "8    0.141379\n",
       "3    0.103448\n",
       "7    0.100000\n",
       "1    0.068966\n",
       "Name: Total Failures, dtype: float64"
      ]
     },
     "execution_count": 13,
     "metadata": {},
     "output_type": "execute_result"
    }
   ],
   "source": [
    "# proportion of failures over total failures per each machine\n",
    "machine_failure = combined_df.groupby('Machine')['Total Failures'].sum()/combined_df['Total Failures'].sum()\n",
    "machine_failure.sort_values(ascending = False).head()"
   ]
  },
  {
   "cell_type": "code",
   "execution_count": 14,
   "metadata": {},
   "outputs": [
    {
     "data": {
      "text/plain": [
       "Machine\n",
       "8    0.291321\n",
       "2    0.190794\n",
       "1    0.093373\n",
       "7    0.079065\n",
       "5    0.067413\n",
       "Name: Total Downtime hr, dtype: float64"
      ]
     },
     "execution_count": 14,
     "metadata": {},
     "output_type": "execute_result"
    }
   ],
   "source": [
    "# proportion of downtime(hr) over total downtime(hr) per each machine\n",
    "machine_downtime = combined_df.groupby('Machine')['Total Downtime hr'].sum()/combined_df['Total Downtime hr'].sum()\n",
    "machine_downtime.sort_values(ascending = False).head()"
   ]
  },
  {
   "cell_type": "markdown",
   "metadata": {},
   "source": [
    "Even though machine 2 and 3 were ultilized the most, machine 8 caused the longest downtime. This means machines associated with the highest number of failures don't necessarily caused the longest downtime."
   ]
  },
  {
   "cell_type": "markdown",
   "metadata": {},
   "source": [
    "#### 3. What machine should be focused on?"
   ]
  },
  {
   "cell_type": "code",
   "execution_count": 15,
   "metadata": {},
   "outputs": [
    {
     "data": {
      "text/html": [
       "<div>\n",
       "<style scoped>\n",
       "    .dataframe tbody tr th:only-of-type {\n",
       "        vertical-align: middle;\n",
       "    }\n",
       "\n",
       "    .dataframe tbody tr th {\n",
       "        vertical-align: top;\n",
       "    }\n",
       "\n",
       "    .dataframe thead th {\n",
       "        text-align: right;\n",
       "    }\n",
       "</style>\n",
       "<table border=\"1\" class=\"dataframe\">\n",
       "  <thead>\n",
       "    <tr style=\"text-align: right;\">\n",
       "      <th></th>\n",
       "      <th>Total Failures</th>\n",
       "      <th>Total Downtime min</th>\n",
       "      <th>Avg Downtime(min)/Failure</th>\n",
       "    </tr>\n",
       "    <tr>\n",
       "      <th>Machine</th>\n",
       "      <th></th>\n",
       "      <th></th>\n",
       "      <th></th>\n",
       "    </tr>\n",
       "  </thead>\n",
       "  <tbody>\n",
       "    <tr>\n",
       "      <th>16</th>\n",
       "      <td>6</td>\n",
       "      <td>835</td>\n",
       "      <td>139.166667</td>\n",
       "    </tr>\n",
       "    <tr>\n",
       "      <th>8</th>\n",
       "      <td>41</td>\n",
       "      <td>4275</td>\n",
       "      <td>104.268293</td>\n",
       "    </tr>\n",
       "    <tr>\n",
       "      <th>10</th>\n",
       "      <td>7</td>\n",
       "      <td>495</td>\n",
       "      <td>70.714286</td>\n",
       "    </tr>\n",
       "    <tr>\n",
       "      <th>1</th>\n",
       "      <td>20</td>\n",
       "      <td>1370</td>\n",
       "      <td>68.500000</td>\n",
       "    </tr>\n",
       "    <tr>\n",
       "      <th>17</th>\n",
       "      <td>1</td>\n",
       "      <td>60</td>\n",
       "      <td>60.000000</td>\n",
       "    </tr>\n",
       "    <tr>\n",
       "      <th>5</th>\n",
       "      <td>18</td>\n",
       "      <td>990</td>\n",
       "      <td>55.000000</td>\n",
       "    </tr>\n",
       "    <tr>\n",
       "      <th>9</th>\n",
       "      <td>6</td>\n",
       "      <td>320</td>\n",
       "      <td>53.333333</td>\n",
       "    </tr>\n",
       "    <tr>\n",
       "      <th>12</th>\n",
       "      <td>2</td>\n",
       "      <td>85</td>\n",
       "      <td>42.500000</td>\n",
       "    </tr>\n",
       "    <tr>\n",
       "      <th>7</th>\n",
       "      <td>29</td>\n",
       "      <td>1160</td>\n",
       "      <td>40.000000</td>\n",
       "    </tr>\n",
       "    <tr>\n",
       "      <th>6</th>\n",
       "      <td>10</td>\n",
       "      <td>395</td>\n",
       "      <td>39.500000</td>\n",
       "    </tr>\n",
       "    <tr>\n",
       "      <th>14</th>\n",
       "      <td>6</td>\n",
       "      <td>225</td>\n",
       "      <td>37.500000</td>\n",
       "    </tr>\n",
       "    <tr>\n",
       "      <th>2</th>\n",
       "      <td>79</td>\n",
       "      <td>2800</td>\n",
       "      <td>35.443038</td>\n",
       "    </tr>\n",
       "    <tr>\n",
       "      <th>3</th>\n",
       "      <td>30</td>\n",
       "      <td>885</td>\n",
       "      <td>29.500000</td>\n",
       "    </tr>\n",
       "    <tr>\n",
       "      <th>13</th>\n",
       "      <td>3</td>\n",
       "      <td>80</td>\n",
       "      <td>26.666667</td>\n",
       "    </tr>\n",
       "    <tr>\n",
       "      <th>15</th>\n",
       "      <td>6</td>\n",
       "      <td>160</td>\n",
       "      <td>26.666667</td>\n",
       "    </tr>\n",
       "    <tr>\n",
       "      <th>4</th>\n",
       "      <td>15</td>\n",
       "      <td>335</td>\n",
       "      <td>22.333333</td>\n",
       "    </tr>\n",
       "    <tr>\n",
       "      <th>11</th>\n",
       "      <td>11</td>\n",
       "      <td>205</td>\n",
       "      <td>18.636364</td>\n",
       "    </tr>\n",
       "  </tbody>\n",
       "</table>\n",
       "</div>"
      ],
      "text/plain": [
       "         Total Failures  Total Downtime min  Avg Downtime(min)/Failure\n",
       "Machine                                                               \n",
       "16                    6                 835                 139.166667\n",
       "8                    41                4275                 104.268293\n",
       "10                    7                 495                  70.714286\n",
       "1                    20                1370                  68.500000\n",
       "17                    1                  60                  60.000000\n",
       "5                    18                 990                  55.000000\n",
       "9                     6                 320                  53.333333\n",
       "12                    2                  85                  42.500000\n",
       "7                    29                1160                  40.000000\n",
       "6                    10                 395                  39.500000\n",
       "14                    6                 225                  37.500000\n",
       "2                    79                2800                  35.443038\n",
       "3                    30                 885                  29.500000\n",
       "13                    3                  80                  26.666667\n",
       "15                    6                 160                  26.666667\n",
       "4                    15                 335                  22.333333\n",
       "11                   11                 205                  18.636364"
      ]
     },
     "execution_count": 15,
     "metadata": {},
     "output_type": "execute_result"
    }
   ],
   "source": [
    "# create avg downtime/failure metric for each machine\n",
    "machine_dt_per_fl = combined_df[['Machine', 'Total Failures', 'Total Downtime min']]\n",
    "\n",
    "machine_dt_per_fl = machine_dt_per_fl.groupby('Machine')[['Total Failures','Total Downtime min']].sum()\n",
    "\n",
    "machine_dt_per_fl['Avg Downtime(min)/Failure'] = machine_dt_per_fl['Total Downtime min']/ machine_dt_per_fl['Total Failures']\n",
    "\n",
    "machine_dt_per_fl.sort_values(by = 'Avg Downtime(min)/Failure', ascending = False)"
   ]
  },
  {
   "cell_type": "code",
   "execution_count": 16,
   "metadata": {},
   "outputs": [
    {
     "data": {
      "image/png": "[encoded data removed]",
      "text/plain": [
       "<Figure size 1728x576 with 1 Axes>"
      ]
     },
     "metadata": {},
     "output_type": "display_data"
    }
   ],
   "source": [
    "# plot avg downtime(min)/failure per machine vs average downtime(min)/failure per all machines\n",
    "machine_dt_per_fl['Avg Downtime(min)/Failure'].sort_values(ascending = False).plot(kind = 'bar')\n",
    "\n",
    "plt.axhline(combined_df['Total Downtime min'].sum()/combined_df['Total Failures'].sum(), \n",
    "            c='green', \n",
    "            linestyle='--', \n",
    "            linewidth=3,\n",
    "            label = 'Total avg downtime/failure (all machines)')\n",
    "\n",
    "plt.legend()\n",
    "plt.show()"
   ]
  },
  {
   "cell_type": "markdown",
   "metadata": {},
   "source": [
    "This is interesting! \n",
    "\n",
    "From an utilization perspective, the manufacturer would probably want to fix/maintain/service machine 2 and machine 3 the most because they are the highest ultilized machines of all in the shop.\n",
    "\n",
    "However, when it comes to performance, machine 16 and machine 8 need to be focused on the most because they tend to have a longer downtime whenever they fail."
   ]
  },
  {
   "cell_type": "markdown",
   "metadata": {},
   "source": [
    "#### 4. If every minute of Cable Failure Downtime represents eight dollars of lost revenue and Other Failure Downtime represents five dollars then which Machines are responsible for the most lost revenue?"
   ]
  },
  {
   "cell_type": "code",
   "execution_count": 17,
   "metadata": {},
   "outputs": [
    {
     "data": {
      "text/html": [
       "<div>\n",
       "<style scoped>\n",
       "    .dataframe tbody tr th:only-of-type {\n",
       "        vertical-align: middle;\n",
       "    }\n",
       "\n",
       "    .dataframe tbody tr th {\n",
       "        vertical-align: top;\n",
       "    }\n",
       "\n",
       "    .dataframe thead th {\n",
       "        text-align: right;\n",
       "    }\n",
       "</style>\n",
       "<table border=\"1\" class=\"dataframe\">\n",
       "  <thead>\n",
       "    <tr style=\"text-align: right;\">\n",
       "      <th></th>\n",
       "      <th>Machine</th>\n",
       "      <th>Cable Failure Downtime</th>\n",
       "      <th>Other Failure Downtime</th>\n",
       "      <th>Lost Revenue</th>\n",
       "    </tr>\n",
       "  </thead>\n",
       "  <tbody>\n",
       "    <tr>\n",
       "      <th>0</th>\n",
       "      <td>6</td>\n",
       "      <td>0</td>\n",
       "      <td>60</td>\n",
       "      <td>300</td>\n",
       "    </tr>\n",
       "    <tr>\n",
       "      <th>1</th>\n",
       "      <td>6</td>\n",
       "      <td>0</td>\n",
       "      <td>0</td>\n",
       "      <td>0</td>\n",
       "    </tr>\n",
       "    <tr>\n",
       "      <th>2</th>\n",
       "      <td>2</td>\n",
       "      <td>10</td>\n",
       "      <td>150</td>\n",
       "      <td>830</td>\n",
       "    </tr>\n",
       "    <tr>\n",
       "      <th>3</th>\n",
       "      <td>8</td>\n",
       "      <td>175</td>\n",
       "      <td>0</td>\n",
       "      <td>1400</td>\n",
       "    </tr>\n",
       "    <tr>\n",
       "      <th>4</th>\n",
       "      <td>2</td>\n",
       "      <td>0</td>\n",
       "      <td>20</td>\n",
       "      <td>100</td>\n",
       "    </tr>\n",
       "  </tbody>\n",
       "</table>\n",
       "</div>"
      ],
      "text/plain": [
       "   Machine  Cable Failure Downtime  Other Failure Downtime  Lost Revenue\n",
       "0        6                       0                      60           300\n",
       "1        6                       0                       0             0\n",
       "2        2                      10                     150           830\n",
       "3        8                     175                       0          1400\n",
       "4        2                       0                      20           100"
      ]
     },
     "execution_count": 17,
     "metadata": {},
     "output_type": "execute_result"
    }
   ],
   "source": [
    "# create revenue by machine df and calculate lost revenue\n",
    "rev_by_machine = combined_df[['Machine', 'Cable Failure Downtime', 'Other Failure Downtime']]\n",
    "\n",
    "rev_by_machine['Lost Revenue'] = (combined_df['Cable Failure Downtime'] * 8) + (combined_df['Other Failure Downtime'] * 5)\n",
    "\n",
    "rev_by_machine.head()"
   ]
  },
  {
   "cell_type": "code",
   "execution_count": 18,
   "metadata": {},
   "outputs": [
    {
     "data": {
      "text/plain": [
       "Machine\n",
       "8    25650\n",
       "2    18665\n",
       "Name: Lost Revenue, dtype: int64"
      ]
     },
     "execution_count": 18,
     "metadata": {},
     "output_type": "execute_result"
    }
   ],
   "source": [
    "# machines associated with the most amount of lost revenue \n",
    "rev_by_machine.groupby('Machine')['Lost Revenue'].sum().sort_values(ascending = False).head(2)"
   ]
  },
  {
   "cell_type": "markdown",
   "metadata": {},
   "source": [
    "Based on the hypothesis above, machine 8 and machine 2 were responsible the the most amount of lost revenue (around 44 thousand dollars)"
   ]
  },
  {
   "cell_type": "markdown",
   "metadata": {},
   "source": [
    "## Shift variable vs total failures/downtime\n",
    "\n",
    "#### 1. What shift is associated with the most amout of total failures/downtime?"
   ]
  },
  {
   "cell_type": "code",
   "execution_count": 19,
   "metadata": {},
   "outputs": [
    {
     "data": {
      "text/plain": [
       "A    0.510345\n",
       "B    0.489655\n",
       "Name: Shift, dtype: float64"
      ]
     },
     "execution_count": 19,
     "metadata": {},
     "output_type": "execute_result"
    }
   ],
   "source": [
    "# inspect shift proportion\n",
    "shift_proportion= combined_df['Shift'].value_counts(normalize = True)\n",
    "shift_proportion"
   ]
  },
  {
   "cell_type": "markdown",
   "metadata": {},
   "source": [
    "The number of shifts were well distributed between shift A and shift B with shift A accounted for 51% of the total number of shifts, and shift B accounted for 49%, respectively."
   ]
  },
  {
   "cell_type": "code",
   "execution_count": 20,
   "metadata": {},
   "outputs": [
    {
     "data": {
      "text/plain": [
       "<matplotlib.axes._subplots.AxesSubplot at 0x7fbe333b9c10>"
      ]
     },
     "execution_count": 20,
     "metadata": {},
     "output_type": "execute_result"
    },
    {
     "data": {
      "image/png": "[encoded data removed]",
      "text/plain": [
       "<Figure size 1728x576 with 1 Axes>"
      ]
     },
     "metadata": {},
     "output_type": "display_data"
    }
   ],
   "source": [
    "# plot the relationship between shift vs average total failures/downtime\n",
    "combined_df.groupby('Shift')['Total Failures', 'Total Downtime hr'].mean().plot(kind='bar',\n",
    "                                                                               title = 'Avg total failures/downtime per shift')"
   ]
  },
  {
   "cell_type": "markdown",
   "metadata": {},
   "source": [
    "According to the bar chart above, shift A and shift B had very similar average downtime per shift.\n",
    "\n",
    "When it comes to the number of failures, shift A's average total failures was slightly higher than that of shift B.\n",
    "Is the difference in the mean of failures of the 2 shifts statistically significant enough to indicate a relationship between shift and total failures?\n",
    "\n",
    "Let's use t-test in the below section to find out."
   ]
  },
  {
   "cell_type": "markdown",
   "metadata": {},
   "source": [
    "#### 2. Is the mean failure/downtime of shift A statistically different from the mean failure/downtime of shift B?"
   ]
  },
  {
   "cell_type": "markdown",
   "metadata": {},
   "source": [
    "A t-test is a type of inferential statistic used to determine if there is a significant difference between the means of two groups; In other words it lets you know if those differences (measured in means) could have happened by chance.\n",
    "\n",
    "The t score is a ratio between the difference between two groups and the difference within the groups. The larger the t score, the more difference there is between groups. The smaller the t score, the more similarity there is between groups. A t score of 3 means that the groups are three times as different from each other as they are within each other. \n",
    "\n",
    "Every t-value has a p-value to go with it. A p-value is the probability that the results from your sample data occurred by chance. Low p-values (<=0.05) are good as they indicate your data did not occur by chance. \n",
    "\n",
    "We will use the same method to on mean total failures and mean total downtime by shift to check these variables statistical significance."
   ]
  },
  {
   "cell_type": "code",
   "execution_count": 21,
   "metadata": {},
   "outputs": [
    {
     "name": "stdout",
     "output_type": "stream",
     "text": [
      "t-test scores for Total Failures\n",
      "Ttest_indResult(statistic=1.1484101412201047, pvalue=0.2527167011230567)\n",
      "\n",
      "t-test scores for Total Downtime min\n",
      "Ttest_indResult(statistic=0.051824329920562885, pvalue=0.9587409919825142)\n",
      "\n"
     ]
    }
   ],
   "source": [
    "# calculate t-test scores for mean Total Failures and \n",
    "# mean Total Downtime min between shift A and shift B\n",
    "for i in ['Total Failures', 'Total Downtime min']:\n",
    "    \n",
    "    shift_df = combined_df.copy()\n",
    "\n",
    "    shift_df = shift_df[['Shift', i]]\n",
    "\n",
    "    shift_A = shift_df[shift_df['Shift']=='A']\n",
    "    shift_B = shift_df[shift_df['Shift']=='B']\n",
    "    \n",
    "    print('t-test scores for ' + i)\n",
    "    print(ttest_ind(shift_A[i], shift_B[i]))\n",
    "    print('')"
   ]
  },
  {
   "cell_type": "markdown",
   "metadata": {},
   "source": [
    "We have a small t-test score, with a p-value > 0.05 for both Total Failures and Total Downtime min, which indicates the variance in mean total failures and the variance in mean total downtime between shift A and shift B are not statistically significant enough to explain the relationship between shift and total failures/downtime."
   ]
  },
  {
   "cell_type": "markdown",
   "metadata": {},
   "source": []
  },
  {
   "cell_type": "markdown",
   "metadata": {},
   "source": [
    "## Operator variable vs total failures/downtime\n",
    "\n",
    "#### 1. What operators were associated with the highest number of failure/downtime?"
   ]
  },
  {
   "cell_type": "code",
   "execution_count": 22,
   "metadata": {},
   "outputs": [
    {
     "data": {
      "text/plain": [
       "<matplotlib.axes._subplots.AxesSubplot at 0x7fbe3339a4f0>"
      ]
     },
     "execution_count": 22,
     "metadata": {},
     "output_type": "execute_result"
    },
    {
     "data": {
      "image/png": "[encoded data removed]",
      "text/plain": [
       "<Figure size 1728x576 with 1 Axes>"
      ]
     },
     "metadata": {},
     "output_type": "display_data"
    }
   ],
   "source": [
    "# Which operator worked the most?\n",
    "operator_proportion = combined_df['Operator Name'].value_counts(normalize = True)\n",
    "\n",
    "operator_proportion.sort_values(ascending=False).plot(kind='bar',\n",
    "                                            title = 'Operators work shift proportion') "
   ]
  },
  {
   "cell_type": "markdown",
   "metadata": {},
   "source": [
    "According to the bar chart above, Fritz_M and Courtney_H worked the highest proprotion of total shifts, but does that mean they are associated with the highest number of failures and downtime?"
   ]
  },
  {
   "cell_type": "code",
   "execution_count": 23,
   "metadata": {},
   "outputs": [
    {
     "data": {
      "text/plain": [
       "<matplotlib.axes._subplots.AxesSubplot at 0x7fbe33a2b790>"
      ]
     },
     "execution_count": 23,
     "metadata": {},
     "output_type": "execute_result"
    },
    {
     "data": {
      "image/png": "[encoded data removed]",
      "text/plain": [
       "<Figure size 1728x576 with 1 Axes>"
      ]
     },
     "metadata": {},
     "output_type": "display_data"
    }
   ],
   "source": [
    "# plot barchart showing the average total failures and average downtime per each operator\n",
    "combined_df.groupby('Operator Name')[['Total Failures', 'Total Downtime hr']].mean().plot(kind='bar',\n",
    "                                                                                         title = 'Avg total failures and avg total downtime hr per operator')"
   ]
  },
  {
   "cell_type": "markdown",
   "metadata": {},
   "source": [
    "According to the barchart above, even though Francisco_L, Hugh_R, and Roland_M had the highest average total failures between all operators, it is Harlan_B and Marcel_C that had the longest average total downtime (hr) of all others."
   ]
  },
  {
   "cell_type": "markdown",
   "metadata": {},
   "source": [
    "#### 2. If every minute of Cable Failure Downtime represents eight dollars of lost revenue and Other Failure Downtime represents five dollars then which Operators are responsible for the most lost revenue?"
   ]
  },
  {
   "cell_type": "code",
   "execution_count": 24,
   "metadata": {},
   "outputs": [
    {
     "data": {
      "text/html": [
       "<div>\n",
       "<style scoped>\n",
       "    .dataframe tbody tr th:only-of-type {\n",
       "        vertical-align: middle;\n",
       "    }\n",
       "\n",
       "    .dataframe tbody tr th {\n",
       "        vertical-align: top;\n",
       "    }\n",
       "\n",
       "    .dataframe thead th {\n",
       "        text-align: right;\n",
       "    }\n",
       "</style>\n",
       "<table border=\"1\" class=\"dataframe\">\n",
       "  <thead>\n",
       "    <tr style=\"text-align: right;\">\n",
       "      <th></th>\n",
       "      <th>Operator Name</th>\n",
       "      <th>Cable Failure Downtime</th>\n",
       "      <th>Other Failure Downtime</th>\n",
       "      <th>Lost Revenue</th>\n",
       "    </tr>\n",
       "  </thead>\n",
       "  <tbody>\n",
       "    <tr>\n",
       "      <th>0</th>\n",
       "      <td>Tad_S</td>\n",
       "      <td>0</td>\n",
       "      <td>60</td>\n",
       "      <td>300</td>\n",
       "    </tr>\n",
       "    <tr>\n",
       "      <th>1</th>\n",
       "      <td>Tad_S</td>\n",
       "      <td>0</td>\n",
       "      <td>0</td>\n",
       "      <td>0</td>\n",
       "    </tr>\n",
       "    <tr>\n",
       "      <th>2</th>\n",
       "      <td>Hugh_R</td>\n",
       "      <td>10</td>\n",
       "      <td>150</td>\n",
       "      <td>830</td>\n",
       "    </tr>\n",
       "    <tr>\n",
       "      <th>3</th>\n",
       "      <td>Marcel_C</td>\n",
       "      <td>175</td>\n",
       "      <td>0</td>\n",
       "      <td>1400</td>\n",
       "    </tr>\n",
       "    <tr>\n",
       "      <th>4</th>\n",
       "      <td>Courtney_H</td>\n",
       "      <td>0</td>\n",
       "      <td>20</td>\n",
       "      <td>100</td>\n",
       "    </tr>\n",
       "  </tbody>\n",
       "</table>\n",
       "</div>"
      ],
      "text/plain": [
       "  Operator Name  Cable Failure Downtime  Other Failure Downtime  Lost Revenue\n",
       "0         Tad_S                       0                      60           300\n",
       "1         Tad_S                       0                       0             0\n",
       "2        Hugh_R                      10                     150           830\n",
       "3      Marcel_C                     175                       0          1400\n",
       "4    Courtney_H                       0                      20           100"
      ]
     },
     "execution_count": 24,
     "metadata": {},
     "output_type": "execute_result"
    }
   ],
   "source": [
    "# create revenue by operator df and calculate lost revenue\n",
    "rev_by_operator = combined_df[['Operator Name', 'Cable Failure Downtime', 'Other Failure Downtime']]\n",
    "\n",
    "rev_by_operator['Lost Revenue'] = (combined_df['Cable Failure Downtime'] * 8) + (combined_df['Other Failure Downtime'] * 5)\n",
    "\n",
    "rev_by_operator.head()"
   ]
  },
  {
   "cell_type": "code",
   "execution_count": 25,
   "metadata": {},
   "outputs": [
    {
     "data": {
      "text/plain": [
       "Operator Name\n",
       "Marcel_C    12890\n",
       "Fritz_M      7900\n",
       "Name: Lost Revenue, dtype: int64"
      ]
     },
     "execution_count": 25,
     "metadata": {},
     "output_type": "execute_result"
    }
   ],
   "source": [
    "# operator associated with the most amount of lost revenue \n",
    "rev_by_operator.groupby('Operator Name')['Lost Revenue'].sum().sort_values(ascending = False).head(2)"
   ]
  },
  {
   "cell_type": "markdown",
   "metadata": {},
   "source": [
    "According to the above results, Marcel_C and Fritz_M were liable for the highest amount of lost revenue (about $20.8k) "
   ]
  },
  {
   "cell_type": "markdown",
   "metadata": {},
   "source": [
    "## What features are most the predictive when it comes to predicting total downtime?"
   ]
  },
  {
   "cell_type": "code",
   "execution_count": 26,
   "metadata": {},
   "outputs": [
    {
     "data": {
      "text/html": [
       "<div>\n",
       "<style scoped>\n",
       "    .dataframe tbody tr th:only-of-type {\n",
       "        vertical-align: middle;\n",
       "    }\n",
       "\n",
       "    .dataframe tbody tr th {\n",
       "        vertical-align: top;\n",
       "    }\n",
       "\n",
       "    .dataframe thead th {\n",
       "        text-align: right;\n",
       "    }\n",
       "</style>\n",
       "<table border=\"1\" class=\"dataframe\">\n",
       "  <thead>\n",
       "    <tr style=\"text-align: right;\">\n",
       "      <th></th>\n",
       "      <th>Machine</th>\n",
       "      <th>Shift</th>\n",
       "      <th>Operator Name</th>\n",
       "      <th>Total Downtime hr</th>\n",
       "    </tr>\n",
       "  </thead>\n",
       "  <tbody>\n",
       "    <tr>\n",
       "      <th>0</th>\n",
       "      <td>6</td>\n",
       "      <td>A</td>\n",
       "      <td>Tad_S</td>\n",
       "      <td>1.00</td>\n",
       "    </tr>\n",
       "    <tr>\n",
       "      <th>1</th>\n",
       "      <td>6</td>\n",
       "      <td>B</td>\n",
       "      <td>Tad_S</td>\n",
       "      <td>0.00</td>\n",
       "    </tr>\n",
       "    <tr>\n",
       "      <th>2</th>\n",
       "      <td>2</td>\n",
       "      <td>A</td>\n",
       "      <td>Hugh_R</td>\n",
       "      <td>2.67</td>\n",
       "    </tr>\n",
       "    <tr>\n",
       "      <th>3</th>\n",
       "      <td>8</td>\n",
       "      <td>B</td>\n",
       "      <td>Marcel_C</td>\n",
       "      <td>2.92</td>\n",
       "    </tr>\n",
       "    <tr>\n",
       "      <th>4</th>\n",
       "      <td>2</td>\n",
       "      <td>B</td>\n",
       "      <td>Courtney_H</td>\n",
       "      <td>0.33</td>\n",
       "    </tr>\n",
       "  </tbody>\n",
       "</table>\n",
       "</div>"
      ],
      "text/plain": [
       "   Machine Shift Operator Name  Total Downtime hr\n",
       "0        6     A         Tad_S               1.00\n",
       "1        6     B         Tad_S               0.00\n",
       "2        2     A        Hugh_R               2.67\n",
       "3        8     B      Marcel_C               2.92\n",
       "4        2     B    Courtney_H               0.33"
      ]
     },
     "execution_count": 26,
     "metadata": {},
     "output_type": "execute_result"
    }
   ],
   "source": [
    "# create new data frame that captures variables of interest\n",
    "variables = ['Machine', 'Shift', 'Operator Name', 'Total Downtime hr']\n",
    "\n",
    "new_df = combined_df[variables]\n",
    "new_df.head()"
   ]
  },
  {
   "cell_type": "code",
   "execution_count": 27,
   "metadata": {},
   "outputs": [
    {
     "name": "stdout",
     "output_type": "stream",
     "text": [
      "complete Shift encoding process \n",
      "complete Operator Name encoding process \n"
     ]
    }
   ],
   "source": [
    "# encode categorical variables\n",
    "encode_variables = ['Shift', 'Operator Name']\n",
    "\n",
    "for i in encode_variables:\n",
    "    encoder = LabelEncoder()\n",
    "    new_df[i] = encoder.fit_transform(new_df[i])\n",
    "    print('complete {} encoding process '.format(i))"
   ]
  },
  {
   "cell_type": "code",
   "execution_count": 28,
   "metadata": {},
   "outputs": [
    {
     "data": {
      "text/html": [
       "<div>\n",
       "<style scoped>\n",
       "    .dataframe tbody tr th:only-of-type {\n",
       "        vertical-align: middle;\n",
       "    }\n",
       "\n",
       "    .dataframe tbody tr th {\n",
       "        vertical-align: top;\n",
       "    }\n",
       "\n",
       "    .dataframe thead th {\n",
       "        text-align: right;\n",
       "    }\n",
       "</style>\n",
       "<table border=\"1\" class=\"dataframe\">\n",
       "  <thead>\n",
       "    <tr style=\"text-align: right;\">\n",
       "      <th></th>\n",
       "      <th>Machine</th>\n",
       "      <th>Shift</th>\n",
       "      <th>Operator Name</th>\n",
       "      <th>Total Downtime hr</th>\n",
       "    </tr>\n",
       "  </thead>\n",
       "  <tbody>\n",
       "    <tr>\n",
       "      <th>0</th>\n",
       "      <td>0.020693</td>\n",
       "      <td>-0.979520</td>\n",
       "      <td>1.471613</td>\n",
       "      <td>-0.362754</td>\n",
       "    </tr>\n",
       "    <tr>\n",
       "      <th>1</th>\n",
       "      <td>0.020693</td>\n",
       "      <td>1.020908</td>\n",
       "      <td>1.471613</td>\n",
       "      <td>-0.890806</td>\n",
       "    </tr>\n",
       "    <tr>\n",
       "      <th>2</th>\n",
       "      <td>-0.902544</td>\n",
       "      <td>-0.979520</td>\n",
       "      <td>0.274661</td>\n",
       "      <td>0.519094</td>\n",
       "    </tr>\n",
       "    <tr>\n",
       "      <th>3</th>\n",
       "      <td>0.482312</td>\n",
       "      <td>1.020908</td>\n",
       "      <td>0.818730</td>\n",
       "      <td>0.651107</td>\n",
       "    </tr>\n",
       "    <tr>\n",
       "      <th>4</th>\n",
       "      <td>-0.902544</td>\n",
       "      <td>1.020908</td>\n",
       "      <td>-1.139918</td>\n",
       "      <td>-0.716549</td>\n",
       "    </tr>\n",
       "  </tbody>\n",
       "</table>\n",
       "</div>"
      ],
      "text/plain": [
       "    Machine     Shift  Operator Name  Total Downtime hr\n",
       "0  0.020693 -0.979520       1.471613          -0.362754\n",
       "1  0.020693  1.020908       1.471613          -0.890806\n",
       "2 -0.902544 -0.979520       0.274661           0.519094\n",
       "3  0.482312  1.020908       0.818730           0.651107\n",
       "4 -0.902544  1.020908      -1.139918          -0.716549"
      ]
     },
     "execution_count": 28,
     "metadata": {},
     "output_type": "execute_result"
    }
   ],
   "source": [
    "# scale new_df using StandardScaler\n",
    "scaler = StandardScaler()\n",
    "\n",
    "new_df = pd.DataFrame(scaler.fit_transform(new_df), columns = variables)\n",
    "\n",
    "new_df.head()"
   ]
  },
  {
   "cell_type": "code",
   "execution_count": 29,
   "metadata": {},
   "outputs": [
    {
     "name": "stdout",
     "output_type": "stream",
     "text": [
      "(145, 3) (145,)\n"
     ]
    }
   ],
   "source": [
    "# split the dataset into explanatoru variables and target variable\n",
    "X = new_df.iloc[:, :-1] # explanatory variables\n",
    "Y = new_df['Total Downtime hr'] # target variable\n",
    "\n",
    "print(X.shape, Y.shape)"
   ]
  },
  {
   "cell_type": "code",
   "execution_count": 30,
   "metadata": {},
   "outputs": [
    {
     "data": {
      "text/plain": [
       "ExtraTreeRegressor(random_state=0)"
      ]
     },
     "execution_count": 30,
     "metadata": {},
     "output_type": "execute_result"
    }
   ],
   "source": [
    "# define regressor and fit to the data\n",
    "regressor = ExtraTreeRegressor(random_state=0)\n",
    "regressor.fit(X, Y)"
   ]
  },
  {
   "cell_type": "code",
   "execution_count": 31,
   "metadata": {},
   "outputs": [
    {
     "data": {
      "text/plain": [
       "<matplotlib.axes._subplots.AxesSubplot at 0x7fbe328fb1c0>"
      ]
     },
     "execution_count": 31,
     "metadata": {},
     "output_type": "execute_result"
    },
    {
     "data": {
      "image/png": "[encoded data removed]",
      "text/plain": [
       "<Figure size 1728x576 with 1 Axes>"
      ]
     },
     "metadata": {},
     "output_type": "display_data"
    }
   ],
   "source": [
    "# feature importance\n",
    "importance = pd.DataFrame(regressor.feature_importances_).rename(columns = {0:'importance'}).reset_index(drop = True)\n",
    "\n",
    "feature = pd.DataFrame(X.columns).rename(columns = {0:'feature'}).reset_index(drop = True)\n",
    "\n",
    "feature_importance = pd.DataFrame(pd.concat([feature, importance], axis=1))\n",
    "\n",
    "# plot feature importance\n",
    "feature_importance.plot(x = 'feature', \n",
    "                        y = 'importance', \n",
    "                        kind='bar',\n",
    "                        title = 'feature importance')"
   ]
  },
  {
   "cell_type": "markdown",
   "metadata": {},
   "source": [
    "According to the bar chart above, machine is the most predictive feature when it comes to predicting total downtime. Shift variable, as both seen in the chart and t-test performance above, is not an important feature when it comes to predicting total downtime, and so is operator name."
   ]
  },
  {
   "cell_type": "markdown",
   "metadata": {},
   "source": [
    "# End"
   ]
  }
 ],
 "metadata": {
  "kernelspec": {
   "display_name": "Python 3",
   "language": "python",
   "name": "python3"
  },
  "language_info": {
   "codemirror_mode": {
    "name": "ipython",
    "version": 3
   },
   "file_extension": ".py",
   "mimetype": "text/x-python",
   "name": "python",
   "nbconvert_exporter": "python",
   "pygments_lexer": "ipython3",
   "version": "3.8.3"
  }
 },
 "nbformat": 4,
 "nbformat_minor": 5
}
